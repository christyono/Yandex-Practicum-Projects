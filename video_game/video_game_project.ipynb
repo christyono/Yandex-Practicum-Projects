{
 "cells": [
  {
   "cell_type": "markdown",
   "metadata": {},
   "source": [
    "# Step 1: Open the data file and study the general information"
   ]
  },
  {
   "cell_type": "code",
   "execution_count": 1,
   "metadata": {},
   "outputs": [],
   "source": [
    "import pandas as pd\n",
    "import numpy as np\n",
    "from math import factorial\n",
    "from scipy import stats as st\n",
    "from functools import reduce\n",
    "import math\n",
    "import matplotlib.pyplot as plt"
   ]
  },
  {
   "cell_type": "code",
   "execution_count": 3,
   "metadata": {},
   "outputs": [
    {
     "name": "stdout",
     "output_type": "stream",
     "text": [
      "<class 'pandas.core.frame.DataFrame'>\n",
      "RangeIndex: 16715 entries, 0 to 16714\n",
      "Data columns (total 11 columns):\n",
      " #   Column           Non-Null Count  Dtype  \n",
      "---  ------           --------------  -----  \n",
      " 0   Name             16713 non-null  object \n",
      " 1   Platform         16715 non-null  object \n",
      " 2   Year_of_Release  16446 non-null  float64\n",
      " 3   Genre            16713 non-null  object \n",
      " 4   NA_sales         16715 non-null  float64\n",
      " 5   EU_sales         16715 non-null  float64\n",
      " 6   JP_sales         16715 non-null  float64\n",
      " 7   Other_sales      16715 non-null  float64\n",
      " 8   Critic_Score     8137 non-null   float64\n",
      " 9   User_Score       10014 non-null  object \n",
      " 10  Rating           9949 non-null   object \n",
      "dtypes: float64(6), object(5)\n",
      "memory usage: 1.4+ MB\n"
     ]
    },
    {
     "data": {
      "text/html": [
       "<div>\n",
       "<style scoped>\n",
       "    .dataframe tbody tr th:only-of-type {\n",
       "        vertical-align: middle;\n",
       "    }\n",
       "\n",
       "    .dataframe tbody tr th {\n",
       "        vertical-align: top;\n",
       "    }\n",
       "\n",
       "    .dataframe thead th {\n",
       "        text-align: right;\n",
       "    }\n",
       "</style>\n",
       "<table border=\"1\" class=\"dataframe\">\n",
       "  <thead>\n",
       "    <tr style=\"text-align: right;\">\n",
       "      <th></th>\n",
       "      <th>Name</th>\n",
       "      <th>Platform</th>\n",
       "      <th>Year_of_Release</th>\n",
       "      <th>Genre</th>\n",
       "      <th>NA_sales</th>\n",
       "      <th>EU_sales</th>\n",
       "      <th>JP_sales</th>\n",
       "      <th>Other_sales</th>\n",
       "      <th>Critic_Score</th>\n",
       "      <th>User_Score</th>\n",
       "      <th>Rating</th>\n",
       "    </tr>\n",
       "  </thead>\n",
       "  <tbody>\n",
       "    <tr>\n",
       "      <th>0</th>\n",
       "      <td>Wii Sports</td>\n",
       "      <td>Wii</td>\n",
       "      <td>2006.0</td>\n",
       "      <td>Sports</td>\n",
       "      <td>41.36</td>\n",
       "      <td>28.96</td>\n",
       "      <td>3.77</td>\n",
       "      <td>8.45</td>\n",
       "      <td>76.0</td>\n",
       "      <td>8</td>\n",
       "      <td>E</td>\n",
       "    </tr>\n",
       "    <tr>\n",
       "      <th>1</th>\n",
       "      <td>Super Mario Bros.</td>\n",
       "      <td>NES</td>\n",
       "      <td>1985.0</td>\n",
       "      <td>Platform</td>\n",
       "      <td>29.08</td>\n",
       "      <td>3.58</td>\n",
       "      <td>6.81</td>\n",
       "      <td>0.77</td>\n",
       "      <td>NaN</td>\n",
       "      <td>NaN</td>\n",
       "      <td>NaN</td>\n",
       "    </tr>\n",
       "    <tr>\n",
       "      <th>2</th>\n",
       "      <td>Mario Kart Wii</td>\n",
       "      <td>Wii</td>\n",
       "      <td>2008.0</td>\n",
       "      <td>Racing</td>\n",
       "      <td>15.68</td>\n",
       "      <td>12.76</td>\n",
       "      <td>3.79</td>\n",
       "      <td>3.29</td>\n",
       "      <td>82.0</td>\n",
       "      <td>8.3</td>\n",
       "      <td>E</td>\n",
       "    </tr>\n",
       "    <tr>\n",
       "      <th>3</th>\n",
       "      <td>Wii Sports Resort</td>\n",
       "      <td>Wii</td>\n",
       "      <td>2009.0</td>\n",
       "      <td>Sports</td>\n",
       "      <td>15.61</td>\n",
       "      <td>10.93</td>\n",
       "      <td>3.28</td>\n",
       "      <td>2.95</td>\n",
       "      <td>80.0</td>\n",
       "      <td>8</td>\n",
       "      <td>E</td>\n",
       "    </tr>\n",
       "    <tr>\n",
       "      <th>4</th>\n",
       "      <td>Pokemon Red/Pokemon Blue</td>\n",
       "      <td>GB</td>\n",
       "      <td>1996.0</td>\n",
       "      <td>Role-Playing</td>\n",
       "      <td>11.27</td>\n",
       "      <td>8.89</td>\n",
       "      <td>10.22</td>\n",
       "      <td>1.00</td>\n",
       "      <td>NaN</td>\n",
       "      <td>NaN</td>\n",
       "      <td>NaN</td>\n",
       "    </tr>\n",
       "    <tr>\n",
       "      <th>5</th>\n",
       "      <td>Tetris</td>\n",
       "      <td>GB</td>\n",
       "      <td>1989.0</td>\n",
       "      <td>Puzzle</td>\n",
       "      <td>23.20</td>\n",
       "      <td>2.26</td>\n",
       "      <td>4.22</td>\n",
       "      <td>0.58</td>\n",
       "      <td>NaN</td>\n",
       "      <td>NaN</td>\n",
       "      <td>NaN</td>\n",
       "    </tr>\n",
       "    <tr>\n",
       "      <th>6</th>\n",
       "      <td>New Super Mario Bros.</td>\n",
       "      <td>DS</td>\n",
       "      <td>2006.0</td>\n",
       "      <td>Platform</td>\n",
       "      <td>11.28</td>\n",
       "      <td>9.14</td>\n",
       "      <td>6.50</td>\n",
       "      <td>2.88</td>\n",
       "      <td>89.0</td>\n",
       "      <td>8.5</td>\n",
       "      <td>E</td>\n",
       "    </tr>\n",
       "    <tr>\n",
       "      <th>7</th>\n",
       "      <td>Wii Play</td>\n",
       "      <td>Wii</td>\n",
       "      <td>2006.0</td>\n",
       "      <td>Misc</td>\n",
       "      <td>13.96</td>\n",
       "      <td>9.18</td>\n",
       "      <td>2.93</td>\n",
       "      <td>2.84</td>\n",
       "      <td>58.0</td>\n",
       "      <td>6.6</td>\n",
       "      <td>E</td>\n",
       "    </tr>\n",
       "    <tr>\n",
       "      <th>8</th>\n",
       "      <td>New Super Mario Bros. Wii</td>\n",
       "      <td>Wii</td>\n",
       "      <td>2009.0</td>\n",
       "      <td>Platform</td>\n",
       "      <td>14.44</td>\n",
       "      <td>6.94</td>\n",
       "      <td>4.70</td>\n",
       "      <td>2.24</td>\n",
       "      <td>87.0</td>\n",
       "      <td>8.4</td>\n",
       "      <td>E</td>\n",
       "    </tr>\n",
       "    <tr>\n",
       "      <th>9</th>\n",
       "      <td>Duck Hunt</td>\n",
       "      <td>NES</td>\n",
       "      <td>1984.0</td>\n",
       "      <td>Shooter</td>\n",
       "      <td>26.93</td>\n",
       "      <td>0.63</td>\n",
       "      <td>0.28</td>\n",
       "      <td>0.47</td>\n",
       "      <td>NaN</td>\n",
       "      <td>NaN</td>\n",
       "      <td>NaN</td>\n",
       "    </tr>\n",
       "  </tbody>\n",
       "</table>\n",
       "</div>"
      ],
      "text/plain": [
       "                        Name Platform  Year_of_Release         Genre  \\\n",
       "0                 Wii Sports      Wii           2006.0        Sports   \n",
       "1          Super Mario Bros.      NES           1985.0      Platform   \n",
       "2             Mario Kart Wii      Wii           2008.0        Racing   \n",
       "3          Wii Sports Resort      Wii           2009.0        Sports   \n",
       "4   Pokemon Red/Pokemon Blue       GB           1996.0  Role-Playing   \n",
       "5                     Tetris       GB           1989.0        Puzzle   \n",
       "6      New Super Mario Bros.       DS           2006.0      Platform   \n",
       "7                   Wii Play      Wii           2006.0          Misc   \n",
       "8  New Super Mario Bros. Wii      Wii           2009.0      Platform   \n",
       "9                  Duck Hunt      NES           1984.0       Shooter   \n",
       "\n",
       "   NA_sales  EU_sales  JP_sales  Other_sales  Critic_Score User_Score Rating  \n",
       "0     41.36     28.96      3.77         8.45          76.0          8      E  \n",
       "1     29.08      3.58      6.81         0.77           NaN        NaN    NaN  \n",
       "2     15.68     12.76      3.79         3.29          82.0        8.3      E  \n",
       "3     15.61     10.93      3.28         2.95          80.0          8      E  \n",
       "4     11.27      8.89     10.22         1.00           NaN        NaN    NaN  \n",
       "5     23.20      2.26      4.22         0.58           NaN        NaN    NaN  \n",
       "6     11.28      9.14      6.50         2.88          89.0        8.5      E  \n",
       "7     13.96      9.18      2.93         2.84          58.0        6.6      E  \n",
       "8     14.44      6.94      4.70         2.24          87.0        8.4      E  \n",
       "9     26.93      0.63      0.28         0.47           NaN        NaN    NaN  "
      ]
     },
     "execution_count": 3,
     "metadata": {},
     "output_type": "execute_result"
    }
   ],
   "source": [
    "data = pd.read_csv('games.csv')\n",
    "data.info()\n",
    "data.head(10)"
   ]
  },
  {
   "cell_type": "markdown",
   "metadata": {},
   "source": [
    "With a quick glance at our data, let's determine what we can change. \n",
    "\n",
    "* replace column names, and convert them to lowercase characters.\n",
    "* The **Name** column has 2 missing values - we can't determine the game without the name, so we'll remove these two rows.\n",
    "* The **Year of Release** column has floats, we can change these to integers since we can't have fraction of a year. Alternatively we can change it to a datetime object. Additionally, there are about 270 missing values from this column. We don't need to know these values as it won't significantly impact our dataset, but in the future we can scrape the year of release data from some other source if we want to fill it in. Or we could fill it in manually. \n",
    "* **Genre** has two missing values. We can assume the user didn't know what to classify it as, so we'll fill it with 'Misc'.\n",
    "* **Critic score** seems to have a lot of missing values, but we'll ignore it since we don't need this. We'll determine how user score affect sales for a popular platform.\n",
    "* **User score** needs to be converted to a float. It also has a lot of missing values so we'll fill it with a mean as well.\n",
    "* **Rating** has a lot of missing values. Based on our initial observation, we'll assume NaN actually means E for everyone.\n",
    "\n",
    "After preprocessing the data, we'll create a new column with the total sales for each game."
   ]
  },
  {
   "cell_type": "markdown",
   "metadata": {},
   "source": [
    "# Step 2: Prepare the data"
   ]
  },
  {
   "cell_type": "code",
   "execution_count": 4,
   "metadata": {},
   "outputs": [
    {
     "name": "stdout",
     "output_type": "stream",
     "text": [
      "<class 'pandas.core.frame.DataFrame'>\n",
      "Int64Index: 16713 entries, 0 to 16714\n",
      "Data columns (total 12 columns):\n",
      " #   Column           Non-Null Count  Dtype  \n",
      "---  ------           --------------  -----  \n",
      " 0   name             16713 non-null  object \n",
      " 1   platform         16713 non-null  object \n",
      " 2   year_of_release  16444 non-null  Int64  \n",
      " 3   genre            16713 non-null  object \n",
      " 4   na_sales         16713 non-null  float64\n",
      " 5   eu_sales         16713 non-null  float64\n",
      " 6   jp_sales         16713 non-null  float64\n",
      " 7   other_sales      16713 non-null  float64\n",
      " 8   critic_score     8137 non-null   float64\n",
      " 9   user_score       16713 non-null  float64\n",
      " 10  rating           16713 non-null  object \n",
      " 11  total_sales      16713 non-null  float64\n",
      "dtypes: Int64(1), float64(7), object(4)\n",
      "memory usage: 1.7+ MB\n"
     ]
    }
   ],
   "source": [
    "#lowercase column names\n",
    "data.columns = map(str.lower, data.columns)\n",
    "\n",
    "#remove rows with missing names. This also removes the rows with missing genres, so we killed 2 birds with 1 stone.\n",
    "data = data[data.name.notnull()]\n",
    "\n",
    "#convert to int\n",
    "data['year_of_release'] = data['year_of_release'].astype('Int64')\n",
    "\n",
    "#convert to float, coerce argument is necessary since we're getting strange strings for some values. Then we fill null values with the mean.\n",
    "data['user_score'] = data['user_score'].apply(pd.to_numeric, errors='coerce')\n",
    "data['user_score'] = data['user_score'].fillna(data['user_score'].mean())\n",
    "#convert null values to E for everyone\n",
    "data['rating']= data['rating'].fillna('E')\n",
    "\n",
    "#create total sales column\n",
    "data['total_sales'] = data['na_sales'] + data['eu_sales'] + data['jp_sales']\n",
    "\n",
    "#perfect.\n",
    "data.info()"
   ]
  },
  {
   "cell_type": "markdown",
   "metadata": {},
   "source": [
    "Now that we completed preprocessing the data, we can now analyze it."
   ]
  },
  {
   "cell_type": "markdown",
   "metadata": {},
   "source": [
    "# Step 3: Analyze the data"
   ]
  },
  {
   "cell_type": "markdown",
   "metadata": {},
   "source": [
    "## Games released per year"
   ]
  },
  {
   "cell_type": "code",
   "execution_count": 5,
   "metadata": {},
   "outputs": [
    {
     "name": "stdout",
     "output_type": "stream",
     "text": [
      "Game release date mean:  2006.4862563853078 \n",
      "Game release date median:  2007.0\n"
     ]
    },
    {
     "data": {
      "image/png": "[encoded data removed]",
      "text/plain": [
       "<Figure size 432x288 with 1 Axes>"
      ]
     },
     "metadata": {
      "needs_background": "light"
     },
     "output_type": "display_data"
    }
   ],
   "source": [
    "#in hindsight I didn't need to do this, but we'll keep it anyways\n",
    "#group by year, and count games for each year\n",
    "# year_grouped = data.groupby('year_of_release').size().reset_index(name=\"count\")\n",
    "\n",
    "#plot histogram to see number of games release per year\n",
    "data.hist('year_of_release', bins = 36)\n",
    "print('Game release date mean: ', data['year_of_release'].mean(), '\\nGame release date median: ', data['year_of_release'].median())"
   ]
  },
  {
   "cell_type": "markdown",
   "metadata": {},
   "source": [
    "We can see that the number of games released exponentially increased between 1980 and 2012, but dropped afterwards. The data has a left skew, with a median release date in 2007.\n",
    "\n",
    "## Platform sales duration"
   ]
  },
  {
   "cell_type": "code",
   "execution_count": 6,
   "metadata": {},
   "outputs": [
    {
     "data": {
      "text/html": [
       "<div>\n",
       "<style scoped>\n",
       "    .dataframe tbody tr th:only-of-type {\n",
       "        vertical-align: middle;\n",
       "    }\n",
       "\n",
       "    .dataframe tbody tr th {\n",
       "        vertical-align: top;\n",
       "    }\n",
       "\n",
       "    .dataframe thead th {\n",
       "        text-align: right;\n",
       "    }\n",
       "</style>\n",
       "<table border=\"1\" class=\"dataframe\">\n",
       "  <thead>\n",
       "    <tr style=\"text-align: right;\">\n",
       "      <th></th>\n",
       "      <th>total_sales</th>\n",
       "    </tr>\n",
       "    <tr>\n",
       "      <th>platform</th>\n",
       "      <th></th>\n",
       "    </tr>\n",
       "  </thead>\n",
       "  <tbody>\n",
       "    <tr>\n",
       "      <th>PS2</th>\n",
       "      <td>1062.33</td>\n",
       "    </tr>\n",
       "    <tr>\n",
       "      <th>X360</th>\n",
       "      <td>885.66</td>\n",
       "    </tr>\n",
       "    <tr>\n",
       "      <th>Wii</th>\n",
       "      <td>828.44</td>\n",
       "    </tr>\n",
       "    <tr>\n",
       "      <th>PS3</th>\n",
       "      <td>803.97</td>\n",
       "    </tr>\n",
       "    <tr>\n",
       "      <th>DS</th>\n",
       "      <td>746.86</td>\n",
       "    </tr>\n",
       "  </tbody>\n",
       "</table>\n",
       "</div>"
      ],
      "text/plain": [
       "          total_sales\n",
       "platform             \n",
       "PS2           1062.33\n",
       "X360           885.66\n",
       "Wii            828.44\n",
       "PS3            803.97\n",
       "DS             746.86"
      ]
     },
     "execution_count": 6,
     "metadata": {},
     "output_type": "execute_result"
    }
   ],
   "source": [
    "# group by platforms, count, and find top 2 platforms by sorting in descending order\n",
    "platforms_grouped = data.groupby('platform').agg({'total_sales':'sum'}).sort_values('total_sales',ascending=False)\n",
    "# here we see that PS console rank high in total sales. We'll use the PS2 and PS3 consoles to determine the information we need.\n",
    "platforms_grouped.head()"
   ]
  },
  {
   "cell_type": "code",
   "execution_count": 7,
   "metadata": {},
   "outputs": [
    {
     "data": {
      "text/plain": [
       "array([[<matplotlib.axes._subplots.AxesSubplot object at 0x0000021D64DD8AC8>]],\n",
       "      dtype=object)"
      ]
     },
     "execution_count": 7,
     "metadata": {},
     "output_type": "execute_result"
    },
    {
     "data": {
      "image/png": "[encoded data removed]",
      "text/plain": [
       "<Figure size 432x288 with 1 Axes>"
      ]
     },
     "metadata": {
      "needs_background": "light"
     },
     "output_type": "display_data"
    },
    {
     "data": {
      "image/png": "[encoded data removed]",
      "text/plain": [
       "<Figure size 432x288 with 1 Axes>"
      ]
     },
     "metadata": {
      "needs_background": "light"
     },
     "output_type": "display_data"
    }
   ],
   "source": [
    "ps2_data = data.query('platform == \"PS2\"')\n",
    "ps3_data = data.query('platform == \"PS3\"')\n",
    "\n",
    "ps2_data.hist('year_of_release')\n",
    "ps3_data.hist('year_of_release')\n"
   ]
  },
  {
   "cell_type": "markdown",
   "metadata": {},
   "source": [
    "As we can see from the histograms, the PS2 console stayed relevant for approximately **10 years** before finally phasing out. If we look closely, we can notice a similarity between the two plots - it took approximately **4 years** between the years of **2006-2010** for the next generation console (PS3) to entirely replace the previous generation's console (PS2). Games released for the PS2 slowly decreased, and games released for the PS3 slowly increased.\n",
    "\n",
    "Our end goal is to determine patterns that determine whether a game succeeds or not. **If we're trying to determine these patterns to maximize potential profits for releasing a game in 2017, we should base our data from the previous year, as trending game types and consoles change over the course of time, and data from 2016 will give us the most relevant information.**\n",
    "\n",
    "## 2016 data"
   ]
  },
  {
   "cell_type": "code",
   "execution_count": 8,
   "metadata": {},
   "outputs": [
    {
     "data": {
      "text/html": [
       "<div>\n",
       "<style scoped>\n",
       "    .dataframe tbody tr th:only-of-type {\n",
       "        vertical-align: middle;\n",
       "    }\n",
       "\n",
       "    .dataframe tbody tr th {\n",
       "        vertical-align: top;\n",
       "    }\n",
       "\n",
       "    .dataframe thead th {\n",
       "        text-align: right;\n",
       "    }\n",
       "</style>\n",
       "<table border=\"1\" class=\"dataframe\">\n",
       "  <thead>\n",
       "    <tr style=\"text-align: right;\">\n",
       "      <th></th>\n",
       "      <th>name</th>\n",
       "      <th>platform</th>\n",
       "      <th>year_of_release</th>\n",
       "      <th>genre</th>\n",
       "      <th>na_sales</th>\n",
       "      <th>eu_sales</th>\n",
       "      <th>jp_sales</th>\n",
       "      <th>other_sales</th>\n",
       "      <th>critic_score</th>\n",
       "      <th>user_score</th>\n",
       "      <th>rating</th>\n",
       "      <th>total_sales</th>\n",
       "    </tr>\n",
       "  </thead>\n",
       "  <tbody>\n",
       "    <tr>\n",
       "      <th>94</th>\n",
       "      <td>FIFA 17</td>\n",
       "      <td>PS4</td>\n",
       "      <td>2016</td>\n",
       "      <td>Sports</td>\n",
       "      <td>0.66</td>\n",
       "      <td>5.75</td>\n",
       "      <td>0.08</td>\n",
       "      <td>1.11</td>\n",
       "      <td>85.0</td>\n",
       "      <td>5.000000</td>\n",
       "      <td>E</td>\n",
       "      <td>6.49</td>\n",
       "    </tr>\n",
       "    <tr>\n",
       "      <th>108</th>\n",
       "      <td>Pokemon Sun/Moon</td>\n",
       "      <td>3DS</td>\n",
       "      <td>2016</td>\n",
       "      <td>Role-Playing</td>\n",
       "      <td>2.98</td>\n",
       "      <td>1.45</td>\n",
       "      <td>2.26</td>\n",
       "      <td>0.45</td>\n",
       "      <td>NaN</td>\n",
       "      <td>7.125046</td>\n",
       "      <td>E</td>\n",
       "      <td>6.69</td>\n",
       "    </tr>\n",
       "    <tr>\n",
       "      <th>171</th>\n",
       "      <td>Uncharted 4: A Thief's End</td>\n",
       "      <td>PS4</td>\n",
       "      <td>2016</td>\n",
       "      <td>Shooter</td>\n",
       "      <td>1.85</td>\n",
       "      <td>2.50</td>\n",
       "      <td>0.19</td>\n",
       "      <td>0.85</td>\n",
       "      <td>93.0</td>\n",
       "      <td>7.900000</td>\n",
       "      <td>T</td>\n",
       "      <td>4.54</td>\n",
       "    </tr>\n",
       "    <tr>\n",
       "      <th>245</th>\n",
       "      <td>Call of Duty: Infinite Warfare</td>\n",
       "      <td>PS4</td>\n",
       "      <td>2016</td>\n",
       "      <td>Shooter</td>\n",
       "      <td>1.61</td>\n",
       "      <td>2.00</td>\n",
       "      <td>0.15</td>\n",
       "      <td>0.71</td>\n",
       "      <td>77.0</td>\n",
       "      <td>3.400000</td>\n",
       "      <td>M</td>\n",
       "      <td>3.76</td>\n",
       "    </tr>\n",
       "    <tr>\n",
       "      <th>289</th>\n",
       "      <td>Battlefield 1</td>\n",
       "      <td>PS4</td>\n",
       "      <td>2016</td>\n",
       "      <td>Shooter</td>\n",
       "      <td>1.10</td>\n",
       "      <td>2.15</td>\n",
       "      <td>0.21</td>\n",
       "      <td>0.61</td>\n",
       "      <td>88.0</td>\n",
       "      <td>8.400000</td>\n",
       "      <td>M</td>\n",
       "      <td>3.46</td>\n",
       "    </tr>\n",
       "  </tbody>\n",
       "</table>\n",
       "</div>"
      ],
      "text/plain": [
       "                               name platform  year_of_release         genre  \\\n",
       "94                          FIFA 17      PS4             2016        Sports   \n",
       "108                Pokemon Sun/Moon      3DS             2016  Role-Playing   \n",
       "171      Uncharted 4: A Thief's End      PS4             2016       Shooter   \n",
       "245  Call of Duty: Infinite Warfare      PS4             2016       Shooter   \n",
       "289                   Battlefield 1      PS4             2016       Shooter   \n",
       "\n",
       "     na_sales  eu_sales  jp_sales  other_sales  critic_score  user_score  \\\n",
       "94       0.66      5.75      0.08         1.11          85.0    5.000000   \n",
       "108      2.98      1.45      2.26         0.45           NaN    7.125046   \n",
       "171      1.85      2.50      0.19         0.85          93.0    7.900000   \n",
       "245      1.61      2.00      0.15         0.71          77.0    3.400000   \n",
       "289      1.10      2.15      0.21         0.61          88.0    8.400000   \n",
       "\n",
       "    rating  total_sales  \n",
       "94       E         6.49  \n",
       "108      E         6.69  \n",
       "171      T         4.54  \n",
       "245      M         3.76  \n",
       "289      M         3.46  "
      ]
     },
     "execution_count": 8,
     "metadata": {},
     "output_type": "execute_result"
    }
   ],
   "source": [
    "#here we have to filter the null values to prevent errors, and check the year of release.\n",
    "recent_data = data[(~data['year_of_release'].isnull()) & (data['year_of_release']==2016)]\n",
    "recent_data.head()"
   ]
  },
  {
   "cell_type": "markdown",
   "metadata": {},
   "source": [
    "Now we can analyze this data subset.\n",
    "\n",
    "## Platforms leading in sales, 2016"
   ]
  },
  {
   "cell_type": "code",
   "execution_count": 9,
   "metadata": {},
   "outputs": [
    {
     "data": {
      "text/html": [
       "<div>\n",
       "<style scoped>\n",
       "    .dataframe tbody tr th:only-of-type {\n",
       "        vertical-align: middle;\n",
       "    }\n",
       "\n",
       "    .dataframe tbody tr th {\n",
       "        vertical-align: top;\n",
       "    }\n",
       "\n",
       "    .dataframe thead th {\n",
       "        text-align: right;\n",
       "    }\n",
       "</style>\n",
       "<table border=\"1\" class=\"dataframe\">\n",
       "  <thead>\n",
       "    <tr style=\"text-align: right;\">\n",
       "      <th></th>\n",
       "      <th>total_sales</th>\n",
       "    </tr>\n",
       "    <tr>\n",
       "      <th>platform</th>\n",
       "      <th></th>\n",
       "    </tr>\n",
       "  </thead>\n",
       "  <tbody>\n",
       "    <tr>\n",
       "      <th>PS4</th>\n",
       "      <td>59.01</td>\n",
       "    </tr>\n",
       "    <tr>\n",
       "      <th>XOne</th>\n",
       "      <td>23.91</td>\n",
       "    </tr>\n",
       "    <tr>\n",
       "      <th>3DS</th>\n",
       "      <td>14.50</td>\n",
       "    </tr>\n",
       "    <tr>\n",
       "      <th>PC</th>\n",
       "      <td>4.89</td>\n",
       "    </tr>\n",
       "    <tr>\n",
       "      <th>WiiU</th>\n",
       "      <td>4.25</td>\n",
       "    </tr>\n",
       "  </tbody>\n",
       "</table>\n",
       "</div>"
      ],
      "text/plain": [
       "          total_sales\n",
       "platform             \n",
       "PS4             59.01\n",
       "XOne            23.91\n",
       "3DS             14.50\n",
       "PC               4.89\n",
       "WiiU             4.25"
      ]
     },
     "execution_count": 9,
     "metadata": {},
     "output_type": "execute_result"
    }
   ],
   "source": [
    "recent_grouped = recent_data.groupby('platform').agg({'total_sales':'sum'}).sort_values('total_sales',ascending=False)\n",
    "\n",
    "recent_grouped.head()"
   ]
  },
  {
   "cell_type": "markdown",
   "metadata": {},
   "source": [
    "The PS4 has immensely higher sales than any other platform in 2016. We'll see if the platform is continuing to trend, or if it's declining. If it's inclining, it's safe to say that the PS4 is the best platform to release a new game for in 2017."
   ]
  },
  {
   "cell_type": "code",
   "execution_count": 81,
   "metadata": {},
   "outputs": [
    {
     "data": {
      "text/plain": [
       "<matplotlib.axes._subplots.AxesSubplot at 0x1bc8618f7c8>"
      ]
     },
     "execution_count": 81,
     "metadata": {},
     "output_type": "execute_result"
    },
    {
     "data": {
      "image/png": "[encoded data removed]",
      "text/plain": [
       "<Figure size 432x288 with 1 Axes>"
      ]
     },
     "metadata": {
      "needs_background": "light"
     },
     "output_type": "display_data"
    },
    {
     "data": {
      "image/png": "[encoded data removed]",
      "text/plain": [
       "<Figure size 432x288 with 1 Axes>"
      ]
     },
     "metadata": {
      "needs_background": "light"
     },
     "output_type": "display_data"
    },
    {
     "data": {
      "image/png": "[encoded data removed]",
      "text/plain": [
       "<Figure size 432x288 with 1 Axes>"
      ]
     },
     "metadata": {
      "needs_background": "light"
     },
     "output_type": "display_data"
    }
   ],
   "source": [
    "#we'll compare several platforms for the sake of it\n",
    "ps4_trend = data[data['platform']=='PS4'].groupby('year_of_release').agg({'total_sales':'sum'}).reset_index()\n",
    "xone_trend = data[data['platform']=='XOne'].groupby('year_of_release').agg({'total_sales':'sum'}).reset_index()\n",
    "ds_trend = data[data['platform']=='3DS'].groupby('year_of_release').agg({'total_sales':'sum'}).reset_index()\n",
    "ps4_trend.plot(x='year_of_release',y='total_sales')\n",
    "xone_trend.plot(x='year_of_release',y='total_sales')\n",
    "ds_trend.plot(x='year_of_release',y='total_sales')"
   ]
  },
  {
   "cell_type": "markdown",
   "metadata": {},
   "source": [
    "Our graph shows a dip in sales in 2016, but judging by the fact that the other most popular platforms declined in sales as well, there may have been an external factor contributing to the decline in sales, such as a decrease in popularity of gaming in general, or a lack of good games released on all the popular consoles. Nevertheless, the PS4 console still made the highest total profit, and at least its graph doesn't look like the 3DS' graph. We'll choose the PS4 as our platform of choice."
   ]
  },
  {
   "cell_type": "code",
   "execution_count": 84,
   "metadata": {},
   "outputs": [
    {
     "data": {
      "text/plain": [
       "{'whiskers': [<matplotlib.lines.Line2D at 0x1bc86227d88>,\n",
       "  <matplotlib.lines.Line2D at 0x1bc86227448>,\n",
       "  <matplotlib.lines.Line2D at 0x1bc8618ba48>,\n",
       "  <matplotlib.lines.Line2D at 0x1bc8622d348>,\n",
       "  <matplotlib.lines.Line2D at 0x1bc86187508>,\n",
       "  <matplotlib.lines.Line2D at 0x1bc861540c8>],\n",
       " 'caps': [<matplotlib.lines.Line2D at 0x1bc8618f088>,\n",
       "  <matplotlib.lines.Line2D at 0x1bc8618f148>,\n",
       "  <matplotlib.lines.Line2D at 0x1bc85e7d148>,\n",
       "  <matplotlib.lines.Line2D at 0x1bc860ee588>,\n",
       "  <matplotlib.lines.Line2D at 0x1bc86154108>,\n",
       "  <matplotlib.lines.Line2D at 0x1bc861d6b88>],\n",
       " 'boxes': [<matplotlib.lines.Line2D at 0x1bc86182808>,\n",
       "  <matplotlib.lines.Line2D at 0x1bc86164888>,\n",
       "  <matplotlib.lines.Line2D at 0x1bc86164188>],\n",
       " 'medians': [<matplotlib.lines.Line2D at 0x1bc8617d448>,\n",
       "  <matplotlib.lines.Line2D at 0x1bc861cbcc8>,\n",
       "  <matplotlib.lines.Line2D at 0x1bc8600ae88>],\n",
       " 'fliers': [<matplotlib.lines.Line2D at 0x1bc8622dbc8>,\n",
       "  <matplotlib.lines.Line2D at 0x1bc86011c88>,\n",
       "  <matplotlib.lines.Line2D at 0x1bc861da788>],\n",
       " 'means': []}"
      ]
     },
     "execution_count": 84,
     "metadata": {},
     "output_type": "execute_result"
    },
    {
     "data": {
      "image/png": "[encoded data removed]",
      "text/plain": [
       "<Figure size 432x288 with 1 Axes>"
      ]
     },
     "metadata": {
      "needs_background": "light"
     },
     "output_type": "display_data"
    }
   ],
   "source": [
    "#this works too, just going to leave this here for future reference\n",
    "#recent_data[['platform','total_sales']].boxplot(by='platform', column='total_sales')\n",
    "\n",
    "ps4_data = data.query('platform == \"PS4\"')\n",
    "xone_data = data.query('platform == \"XOne\"')\n",
    "ds_data = data.query('platform == \"3DS\"')\n",
    "\n",
    "plt.boxplot([ps4_data['total_sales'], xone_data['total_sales'], ds_data['total_sales']])"
   ]
  },
  {
   "cell_type": "markdown",
   "metadata": {},
   "source": [
    "it's a bit hard to determine much from this graph so we'll display these without the outliers."
   ]
  },
  {
   "cell_type": "code",
   "execution_count": 85,
   "metadata": {},
   "outputs": [
    {
     "data": {
      "text/plain": [
       "{'whiskers': [<matplotlib.lines.Line2D at 0x1bc86152b08>,\n",
       "  <matplotlib.lines.Line2D at 0x1bc86152348>,\n",
       "  <matplotlib.lines.Line2D at 0x1bc861e6e48>,\n",
       "  <matplotlib.lines.Line2D at 0x1bc86017448>,\n",
       "  <matplotlib.lines.Line2D at 0x1bc860304c8>,\n",
       "  <matplotlib.lines.Line2D at 0x1bc860302c8>],\n",
       " 'caps': [<matplotlib.lines.Line2D at 0x1bc86152708>,\n",
       "  <matplotlib.lines.Line2D at 0x1bc861f0d48>,\n",
       "  <matplotlib.lines.Line2D at 0x1bc86131fc8>,\n",
       "  <matplotlib.lines.Line2D at 0x1bc86131108>,\n",
       "  <matplotlib.lines.Line2D at 0x1bc85fdcf88>,\n",
       "  <matplotlib.lines.Line2D at 0x1bc8603aec8>],\n",
       " 'boxes': [<matplotlib.lines.Line2D at 0x1bc86100d48>,\n",
       "  <matplotlib.lines.Line2D at 0x1bc86204608>,\n",
       "  <matplotlib.lines.Line2D at 0x1bc85ff3e48>],\n",
       " 'medians': [<matplotlib.lines.Line2D at 0x1bc861f0dc8>,\n",
       "  <matplotlib.lines.Line2D at 0x1bc860fa488>,\n",
       "  <matplotlib.lines.Line2D at 0x1bc8603a6c8>],\n",
       " 'fliers': [],\n",
       " 'means': []}"
      ]
     },
     "execution_count": 85,
     "metadata": {},
     "output_type": "execute_result"
    },
    {
     "data": {
      "image/png": "[encoded data removed]",
      "text/plain": [
       "<Figure size 432x288 with 1 Axes>"
      ]
     },
     "metadata": {
      "needs_background": "light"
     },
     "output_type": "display_data"
    }
   ],
   "source": [
    "plt.boxplot([ps4_data['total_sales'], xone_data['total_sales'], ds_data['total_sales']], showfliers=False)"
   ]
  },
  {
   "cell_type": "markdown",
   "metadata": {},
   "source": [
    "Here we see a comparison of the data between the PS3, Xbox One, and 3DS for the year 2016. **The distribution of total sales for each game between the PS4 and Xbox One are quite similar.** The PS4 however has significantly more outliers, some with much higher total sales than the outliers from the Xbox One console. The 3DS has outliers with even higher total sales than the PS4 - however, as we can see clearly from the second graph, the interquartile range of the 3DS is significantly smaller than the other consoles, and the median is the lowest of the three. The whiskers extend similarly for both the PS4 and Xbox One, and the IQRs and median are roughly the same. Looking at the distributions, the Xbox One doesn't seem like a bad choice as a platform to release a game on either!"
   ]
  },
  {
   "cell_type": "markdown",
   "metadata": {},
   "source": [
    "## User reviews in regards to the PS4\n",
    "\n",
    "Here we'll see if there is a correlation between user reviews and total sales for the PS4."
   ]
  },
  {
   "cell_type": "code",
   "execution_count": 90,
   "metadata": {},
   "outputs": [
    {
     "data": {
      "text/html": [
       "<div>\n",
       "<style scoped>\n",
       "    .dataframe tbody tr th:only-of-type {\n",
       "        vertical-align: middle;\n",
       "    }\n",
       "\n",
       "    .dataframe tbody tr th {\n",
       "        vertical-align: top;\n",
       "    }\n",
       "\n",
       "    .dataframe thead th {\n",
       "        text-align: right;\n",
       "    }\n",
       "</style>\n",
       "<table border=\"1\" class=\"dataframe\">\n",
       "  <thead>\n",
       "    <tr style=\"text-align: right;\">\n",
       "      <th></th>\n",
       "      <th>user_score</th>\n",
       "      <th>total_sales</th>\n",
       "    </tr>\n",
       "  </thead>\n",
       "  <tbody>\n",
       "    <tr>\n",
       "      <th>user_score</th>\n",
       "      <td>1.000000</td>\n",
       "      <td>-0.044788</td>\n",
       "    </tr>\n",
       "    <tr>\n",
       "      <th>total_sales</th>\n",
       "      <td>-0.044788</td>\n",
       "      <td>1.000000</td>\n",
       "    </tr>\n",
       "  </tbody>\n",
       "</table>\n",
       "</div>"
      ],
      "text/plain": [
       "             user_score  total_sales\n",
       "user_score     1.000000    -0.044788\n",
       "total_sales   -0.044788     1.000000"
      ]
     },
     "execution_count": 90,
     "metadata": {},
     "output_type": "execute_result"
    },
    {
     "data": {
      "image/png": "[encoded data removed]",
      "text/plain": [
       "<Figure size 432x288 with 1 Axes>"
      ]
     },
     "metadata": {
      "needs_background": "light"
     },
     "output_type": "display_data"
    }
   ],
   "source": [
    "ps4_data.plot(x = 'user_score', y='total_sales', kind='scatter')\n",
    "\n",
    "ps4_data[['user_score','total_sales']].corr()"
   ]
  },
  {
   "cell_type": "markdown",
   "metadata": {},
   "source": [
    "Contrary to what people may think, based on our correlation coefficient it's safe to say that there isn't a correlation between user ratings and total sales. The highest selling game was rated close to a 7!\n",
    "\n",
    "## Comparing sales of games across different platforms"
   ]
  },
  {
   "cell_type": "code",
   "execution_count": 10,
   "metadata": {},
   "outputs": [
    {
     "data": {
      "text/html": [
       "<div>\n",
       "<style scoped>\n",
       "    .dataframe tbody tr th:only-of-type {\n",
       "        vertical-align: middle;\n",
       "    }\n",
       "\n",
       "    .dataframe tbody tr th {\n",
       "        vertical-align: top;\n",
       "    }\n",
       "\n",
       "    .dataframe thead th {\n",
       "        text-align: right;\n",
       "    }\n",
       "</style>\n",
       "<table border=\"1\" class=\"dataframe\">\n",
       "  <thead>\n",
       "    <tr style=\"text-align: right;\">\n",
       "      <th></th>\n",
       "      <th>name</th>\n",
       "      <th>platform</th>\n",
       "      <th>year_of_release</th>\n",
       "      <th>genre</th>\n",
       "      <th>na_sales</th>\n",
       "      <th>eu_sales</th>\n",
       "      <th>jp_sales</th>\n",
       "      <th>other_sales</th>\n",
       "      <th>critic_score</th>\n",
       "      <th>user_score</th>\n",
       "      <th>rating</th>\n",
       "      <th>total_sales</th>\n",
       "    </tr>\n",
       "  </thead>\n",
       "  <tbody>\n",
       "    <tr>\n",
       "      <th>12863</th>\n",
       "      <td>7 Days to Die</td>\n",
       "      <td>XOne</td>\n",
       "      <td>2016</td>\n",
       "      <td>Action</td>\n",
       "      <td>0.03</td>\n",
       "      <td>0.02</td>\n",
       "      <td>0.00</td>\n",
       "      <td>0.00</td>\n",
       "      <td>35.0</td>\n",
       "      <td>5.2</td>\n",
       "      <td>M</td>\n",
       "      <td>0.05</td>\n",
       "    </tr>\n",
       "    <tr>\n",
       "      <th>9197</th>\n",
       "      <td>7 Days to Die</td>\n",
       "      <td>PS4</td>\n",
       "      <td>2016</td>\n",
       "      <td>Action</td>\n",
       "      <td>0.04</td>\n",
       "      <td>0.08</td>\n",
       "      <td>0.00</td>\n",
       "      <td>0.02</td>\n",
       "      <td>45.0</td>\n",
       "      <td>5.9</td>\n",
       "      <td>M</td>\n",
       "      <td>0.12</td>\n",
       "    </tr>\n",
       "    <tr>\n",
       "      <th>14940</th>\n",
       "      <td>Agatha Christie's The ABC Murders</td>\n",
       "      <td>PS4</td>\n",
       "      <td>2016</td>\n",
       "      <td>Adventure</td>\n",
       "      <td>0.01</td>\n",
       "      <td>0.01</td>\n",
       "      <td>0.00</td>\n",
       "      <td>0.00</td>\n",
       "      <td>67.0</td>\n",
       "      <td>6.2</td>\n",
       "      <td>T</td>\n",
       "      <td>0.02</td>\n",
       "    </tr>\n",
       "    <tr>\n",
       "      <th>16322</th>\n",
       "      <td>Agatha Christie's The ABC Murders</td>\n",
       "      <td>XOne</td>\n",
       "      <td>2016</td>\n",
       "      <td>Adventure</td>\n",
       "      <td>0.01</td>\n",
       "      <td>0.00</td>\n",
       "      <td>0.00</td>\n",
       "      <td>0.00</td>\n",
       "      <td>66.0</td>\n",
       "      <td>7.5</td>\n",
       "      <td>E</td>\n",
       "      <td>0.01</td>\n",
       "    </tr>\n",
       "    <tr>\n",
       "      <th>11243</th>\n",
       "      <td>Assassin's Creed Chronicles</td>\n",
       "      <td>PS4</td>\n",
       "      <td>2016</td>\n",
       "      <td>Action</td>\n",
       "      <td>0.01</td>\n",
       "      <td>0.05</td>\n",
       "      <td>0.01</td>\n",
       "      <td>0.01</td>\n",
       "      <td>NaN</td>\n",
       "      <td>6.1</td>\n",
       "      <td>T</td>\n",
       "      <td>0.07</td>\n",
       "    </tr>\n",
       "  </tbody>\n",
       "</table>\n",
       "</div>"
      ],
      "text/plain": [
       "                                    name platform  year_of_release      genre  \\\n",
       "12863                      7 Days to Die     XOne             2016     Action   \n",
       "9197                       7 Days to Die      PS4             2016     Action   \n",
       "14940  Agatha Christie's The ABC Murders      PS4             2016  Adventure   \n",
       "16322  Agatha Christie's The ABC Murders     XOne             2016  Adventure   \n",
       "11243        Assassin's Creed Chronicles      PS4             2016     Action   \n",
       "\n",
       "       na_sales  eu_sales  jp_sales  other_sales  critic_score  user_score  \\\n",
       "12863      0.03      0.02      0.00         0.00          35.0         5.2   \n",
       "9197       0.04      0.08      0.00         0.02          45.0         5.9   \n",
       "14940      0.01      0.01      0.00         0.00          67.0         6.2   \n",
       "16322      0.01      0.00      0.00         0.00          66.0         7.5   \n",
       "11243      0.01      0.05      0.01         0.01           NaN         6.1   \n",
       "\n",
       "      rating  total_sales  \n",
       "12863      M         0.05  \n",
       "9197       M         0.12  \n",
       "14940      T         0.02  \n",
       "16322      E         0.01  \n",
       "11243      T         0.07  "
      ]
     },
     "execution_count": 10,
     "metadata": {},
     "output_type": "execute_result"
    }
   ],
   "source": [
    "#find games on the top 3 platforms\n",
    "recent_subset = recent_data.query('platform == \"PS4\" | platform == \"XOne\" | platform == \"3DS\"')\n",
    "\n",
    "'''\n",
    "we need to figure out the steps necessary to find games that are sold on multiple platforms.\n",
    "1. iterate through the names in the subset\n",
    "2. create a hashmap, where the key is the name of the game, and the value is incremented each time we see the name\n",
    "3. filter our subset based on values > 1 in our hashmap\n",
    "\n",
    "all of this can be done with methods defined in the python/pandas libraries.\n",
    "'''\n",
    "\n",
    "# step 1 and 2\n",
    "name_counts = recent_subset.name.value_counts()\n",
    "\n",
    "#step 3\n",
    "dupes = recent_subset[recent_subset['name'].isin(name_counts.index[name_counts.gt(1)])]\n",
    "\n",
    "#now we sort, to make sure it works\n",
    "dupes = dupes.sort_values('name')\n",
    "\n",
    "dupes.head()"
   ]
  },
  {
   "cell_type": "code",
   "execution_count": 11,
   "metadata": {},
   "outputs": [
    {
     "data": {
      "text/html": [
       "<div>\n",
       "<style scoped>\n",
       "    .dataframe tbody tr th:only-of-type {\n",
       "        vertical-align: middle;\n",
       "    }\n",
       "\n",
       "    .dataframe tbody tr th {\n",
       "        vertical-align: top;\n",
       "    }\n",
       "\n",
       "    .dataframe thead th {\n",
       "        text-align: right;\n",
       "    }\n",
       "</style>\n",
       "<table border=\"1\" class=\"dataframe\">\n",
       "  <thead>\n",
       "    <tr style=\"text-align: right;\">\n",
       "      <th></th>\n",
       "      <th>name</th>\n",
       "      <th>platform</th>\n",
       "      <th>year_of_release</th>\n",
       "      <th>genre</th>\n",
       "      <th>na_sales</th>\n",
       "      <th>eu_sales</th>\n",
       "      <th>jp_sales</th>\n",
       "      <th>other_sales</th>\n",
       "      <th>critic_score</th>\n",
       "      <th>user_score</th>\n",
       "      <th>rating</th>\n",
       "      <th>total_sales</th>\n",
       "    </tr>\n",
       "  </thead>\n",
       "  <tbody>\n",
       "    <tr>\n",
       "      <th>12863</th>\n",
       "      <td>7 Days to Die</td>\n",
       "      <td>XOne</td>\n",
       "      <td>2016</td>\n",
       "      <td>Action</td>\n",
       "      <td>0.03</td>\n",
       "      <td>0.02</td>\n",
       "      <td>0.00</td>\n",
       "      <td>0.00</td>\n",
       "      <td>35.0</td>\n",
       "      <td>5.2</td>\n",
       "      <td>M</td>\n",
       "      <td>0.05</td>\n",
       "    </tr>\n",
       "    <tr>\n",
       "      <th>9197</th>\n",
       "      <td>7 Days to Die</td>\n",
       "      <td>PS4</td>\n",
       "      <td>2016</td>\n",
       "      <td>Action</td>\n",
       "      <td>0.04</td>\n",
       "      <td>0.08</td>\n",
       "      <td>0.00</td>\n",
       "      <td>0.02</td>\n",
       "      <td>45.0</td>\n",
       "      <td>5.9</td>\n",
       "      <td>M</td>\n",
       "      <td>0.12</td>\n",
       "    </tr>\n",
       "    <tr>\n",
       "      <th>14940</th>\n",
       "      <td>Agatha Christie's The ABC Murders</td>\n",
       "      <td>PS4</td>\n",
       "      <td>2016</td>\n",
       "      <td>Adventure</td>\n",
       "      <td>0.01</td>\n",
       "      <td>0.01</td>\n",
       "      <td>0.00</td>\n",
       "      <td>0.00</td>\n",
       "      <td>67.0</td>\n",
       "      <td>6.2</td>\n",
       "      <td>T</td>\n",
       "      <td>0.02</td>\n",
       "    </tr>\n",
       "    <tr>\n",
       "      <th>16322</th>\n",
       "      <td>Agatha Christie's The ABC Murders</td>\n",
       "      <td>XOne</td>\n",
       "      <td>2016</td>\n",
       "      <td>Adventure</td>\n",
       "      <td>0.01</td>\n",
       "      <td>0.00</td>\n",
       "      <td>0.00</td>\n",
       "      <td>0.00</td>\n",
       "      <td>66.0</td>\n",
       "      <td>7.5</td>\n",
       "      <td>E</td>\n",
       "      <td>0.01</td>\n",
       "    </tr>\n",
       "    <tr>\n",
       "      <th>11243</th>\n",
       "      <td>Assassin's Creed Chronicles</td>\n",
       "      <td>PS4</td>\n",
       "      <td>2016</td>\n",
       "      <td>Action</td>\n",
       "      <td>0.01</td>\n",
       "      <td>0.05</td>\n",
       "      <td>0.01</td>\n",
       "      <td>0.01</td>\n",
       "      <td>NaN</td>\n",
       "      <td>6.1</td>\n",
       "      <td>T</td>\n",
       "      <td>0.07</td>\n",
       "    </tr>\n",
       "  </tbody>\n",
       "</table>\n",
       "</div>"
      ],
      "text/plain": [
       "                                    name platform  year_of_release      genre  \\\n",
       "12863                      7 Days to Die     XOne             2016     Action   \n",
       "9197                       7 Days to Die      PS4             2016     Action   \n",
       "14940  Agatha Christie's The ABC Murders      PS4             2016  Adventure   \n",
       "16322  Agatha Christie's The ABC Murders     XOne             2016  Adventure   \n",
       "11243        Assassin's Creed Chronicles      PS4             2016     Action   \n",
       "\n",
       "       na_sales  eu_sales  jp_sales  other_sales  critic_score  user_score  \\\n",
       "12863      0.03      0.02      0.00         0.00          35.0         5.2   \n",
       "9197       0.04      0.08      0.00         0.02          45.0         5.9   \n",
       "14940      0.01      0.01      0.00         0.00          67.0         6.2   \n",
       "16322      0.01      0.00      0.00         0.00          66.0         7.5   \n",
       "11243      0.01      0.05      0.01         0.01           NaN         6.1   \n",
       "\n",
       "      rating  total_sales  \n",
       "12863      M         0.05  \n",
       "9197       M         0.12  \n",
       "14940      T         0.02  \n",
       "16322      E         0.01  \n",
       "11243      T         0.07  "
      ]
     },
     "execution_count": 11,
     "metadata": {},
     "output_type": "execute_result"
    }
   ],
   "source": [
    "#by using this, we can see most games are cross console between the PS4 and Xbox One. We'll compare these two.\n",
    "dupes.groupby('platform').count()\n",
    "\n",
    "ps4_x1 = dupes[(dupes['platform']=='PS4') | (dupes['platform']=='XOne')]\n",
    "ps4_x1.head()"
   ]
  },
  {
   "cell_type": "code",
   "execution_count": 12,
   "metadata": {},
   "outputs": [
    {
     "data": {
      "text/html": [
       "<div>\n",
       "<style scoped>\n",
       "    .dataframe tbody tr th:only-of-type {\n",
       "        vertical-align: middle;\n",
       "    }\n",
       "\n",
       "    .dataframe tbody tr th {\n",
       "        vertical-align: top;\n",
       "    }\n",
       "\n",
       "    .dataframe thead th {\n",
       "        text-align: right;\n",
       "    }\n",
       "</style>\n",
       "<table border=\"1\" class=\"dataframe\">\n",
       "  <thead>\n",
       "    <tr style=\"text-align: right;\">\n",
       "      <th>platform</th>\n",
       "      <th>PS4</th>\n",
       "      <th>XOne</th>\n",
       "    </tr>\n",
       "    <tr>\n",
       "      <th>name</th>\n",
       "      <th></th>\n",
       "      <th></th>\n",
       "    </tr>\n",
       "  </thead>\n",
       "  <tbody>\n",
       "    <tr>\n",
       "      <th>7 Days to Die</th>\n",
       "      <td>0.12</td>\n",
       "      <td>0.05</td>\n",
       "    </tr>\n",
       "    <tr>\n",
       "      <th>Agatha Christie's The ABC Murders</th>\n",
       "      <td>0.02</td>\n",
       "      <td>0.01</td>\n",
       "    </tr>\n",
       "    <tr>\n",
       "      <th>Assassin's Creed Chronicles</th>\n",
       "      <td>0.07</td>\n",
       "      <td>0.01</td>\n",
       "    </tr>\n",
       "    <tr>\n",
       "      <th>Assassin's Creed The Ezio Collection</th>\n",
       "      <td>0.17</td>\n",
       "      <td>0.07</td>\n",
       "    </tr>\n",
       "    <tr>\n",
       "      <th>Assetto Corsa</th>\n",
       "      <td>0.05</td>\n",
       "      <td>0.01</td>\n",
       "    </tr>\n",
       "  </tbody>\n",
       "</table>\n",
       "</div>"
      ],
      "text/plain": [
       "platform                               PS4  XOne\n",
       "name                                            \n",
       "7 Days to Die                         0.12  0.05\n",
       "Agatha Christie's The ABC Murders     0.02  0.01\n",
       "Assassin's Creed Chronicles           0.07  0.01\n",
       "Assassin's Creed The Ezio Collection  0.17  0.07\n",
       "Assetto Corsa                         0.05  0.01"
      ]
     },
     "execution_count": 12,
     "metadata": {},
     "output_type": "execute_result"
    }
   ],
   "source": [
    "dupe_sales = ps4_x1.pivot_table(index='name',columns='platform', values = 'total_sales')\n",
    "\n",
    "dupe_sales.head()\n"
   ]
  },
  {
   "cell_type": "markdown",
   "metadata": {},
   "source": [
    "here we can see the differences between game sales across the PS4 and Xbox One. \n",
    "\n",
    "let's average this out and see if there are differences between the sales of games between the two platforms."
   ]
  },
  {
   "cell_type": "code",
   "execution_count": 139,
   "metadata": {},
   "outputs": [
    {
     "name": "stdout",
     "output_type": "stream",
     "text": [
      "The mean difference between the sales on the PS4 and the Xbox One is: 0.27250000000000013 \n",
      "The median difference between the sales on the PS4 and the Xbox is: 0.07499999999999998\n"
     ]
    }
   ],
   "source": [
    "dupe_sales['difference'] = dupe_sales['PS4'] - dupe_sales['XOne']\n",
    "\n",
    "mean = dupe_sales['difference'].mean()\n",
    "median = dupe_sales['difference'].median()\n",
    "\n",
    "print('The mean difference between the sales on the PS4 and the Xbox One is:', mean, \"\\nThe median difference between the sales on the PS4 and the Xbox is:\", median)"
   ]
  },
  {
   "cell_type": "markdown",
   "metadata": {},
   "source": [
    "cross platform games between the PS4 and the Xbox One are slightly different, with the **games sold on the PS4 averaging an approximate $272,500 more in total sales than the Xbox One.**\n",
    "\n",
    "This data seems to reinforce our decision in choosing the PS4 as our platform of choice!\n",
    "\n",
    "## Determining the most profitable genre of game"
   ]
  },
  {
   "cell_type": "code",
   "execution_count": 145,
   "metadata": {},
   "outputs": [
    {
     "data": {
      "text/html": [
       "<div>\n",
       "<style scoped>\n",
       "    .dataframe tbody tr th:only-of-type {\n",
       "        vertical-align: middle;\n",
       "    }\n",
       "\n",
       "    .dataframe tbody tr th {\n",
       "        vertical-align: top;\n",
       "    }\n",
       "\n",
       "    .dataframe thead th {\n",
       "        text-align: right;\n",
       "    }\n",
       "</style>\n",
       "<table border=\"1\" class=\"dataframe\">\n",
       "  <thead>\n",
       "    <tr style=\"text-align: right;\">\n",
       "      <th></th>\n",
       "      <th>total_sales</th>\n",
       "    </tr>\n",
       "    <tr>\n",
       "      <th>genre</th>\n",
       "      <th></th>\n",
       "    </tr>\n",
       "  </thead>\n",
       "  <tbody>\n",
       "    <tr>\n",
       "      <th>Shooter</th>\n",
       "      <td>33.20</td>\n",
       "    </tr>\n",
       "    <tr>\n",
       "      <th>Action</th>\n",
       "      <td>27.04</td>\n",
       "    </tr>\n",
       "    <tr>\n",
       "      <th>Sports</th>\n",
       "      <td>20.47</td>\n",
       "    </tr>\n",
       "    <tr>\n",
       "      <th>Role-Playing</th>\n",
       "      <td>16.78</td>\n",
       "    </tr>\n",
       "    <tr>\n",
       "      <th>Fighting</th>\n",
       "      <td>3.93</td>\n",
       "    </tr>\n",
       "    <tr>\n",
       "      <th>Adventure</th>\n",
       "      <td>3.45</td>\n",
       "    </tr>\n",
       "    <tr>\n",
       "      <th>Platform</th>\n",
       "      <td>2.79</td>\n",
       "    </tr>\n",
       "    <tr>\n",
       "      <th>Racing</th>\n",
       "      <td>2.51</td>\n",
       "    </tr>\n",
       "    <tr>\n",
       "      <th>Misc</th>\n",
       "      <td>2.46</td>\n",
       "    </tr>\n",
       "    <tr>\n",
       "      <th>Simulation</th>\n",
       "      <td>1.76</td>\n",
       "    </tr>\n",
       "    <tr>\n",
       "      <th>Strategy</th>\n",
       "      <td>1.06</td>\n",
       "    </tr>\n",
       "    <tr>\n",
       "      <th>Puzzle</th>\n",
       "      <td>0.01</td>\n",
       "    </tr>\n",
       "  </tbody>\n",
       "</table>\n",
       "</div>"
      ],
      "text/plain": [
       "              total_sales\n",
       "genre                    \n",
       "Shooter             33.20\n",
       "Action              27.04\n",
       "Sports              20.47\n",
       "Role-Playing        16.78\n",
       "Fighting             3.93\n",
       "Adventure            3.45\n",
       "Platform             2.79\n",
       "Racing               2.51\n",
       "Misc                 2.46\n",
       "Simulation           1.76\n",
       "Strategy             1.06\n",
       "Puzzle               0.01"
      ]
     },
     "execution_count": 145,
     "metadata": {},
     "output_type": "execute_result"
    }
   ],
   "source": [
    "genre_data = recent_data.groupby('genre')\n",
    "genre_data.agg({'total_sales':'sum'}).sort_values('total_sales',ascending=False)"
   ]
  },
  {
   "cell_type": "markdown",
   "metadata": {},
   "source": [
    "Looking at this chart, **shooters, action games, sports games, and RPGs** seem to the the best genre to make a game for. Let's take a look at the distribution of total sales by genre to see if our preliminary findings are correct."
   ]
  },
  {
   "cell_type": "code",
   "execution_count": 147,
   "metadata": {},
   "outputs": [
    {
     "data": {
      "text/plain": [
       "<matplotlib.axes._subplots.AxesSubplot at 0x1bc89aaaf08>"
      ]
     },
     "execution_count": 147,
     "metadata": {},
     "output_type": "execute_result"
    },
    {
     "data": {
      "image/png": "[encoded data removed]",
      "text/plain": [
       "<Figure size 2160x2160 with 1 Axes>"
      ]
     },
     "metadata": {
      "needs_background": "light"
     },
     "output_type": "display_data"
    }
   ],
   "source": [
    "recent_data[['genre','total_sales']].boxplot(by='genre', column='total_sales', figsize = (30,30))"
   ]
  },
  {
   "cell_type": "code",
   "execution_count": 148,
   "metadata": {},
   "outputs": [
    {
     "data": {
      "text/plain": [
       "<matplotlib.axes._subplots.AxesSubplot at 0x1bc89bddc48>"
      ]
     },
     "execution_count": 148,
     "metadata": {},
     "output_type": "execute_result"
    },
    {
     "data": {
      "image/png": "[encoded data removed]",
      "text/plain": [
       "<Figure size 2160x2160 with 1 Axes>"
      ]
     },
     "metadata": {
      "needs_background": "light"
     },
     "output_type": "display_data"
    }
   ],
   "source": [
    "recent_data[['genre','total_sales']].boxplot(by='genre', column='total_sales', figsize = (30,30),showfliers=False)"
   ]
  },
  {
   "cell_type": "markdown",
   "metadata": {},
   "source": [
    "We can confirm our findings, that Shooters, Sports games, Action games, and RPGs are highly profitable. Although the total profits are lower, fighting games also have an equatable distribution!\n",
    "Looking at the boxplots, the low fence for all genres seem to be roughly the same - close to the 0 mark. In other words, there's no such thing as failsafe genre! The IRQs across the different genres are roughly similar as well, and all medians fall within the range of 0-200,000 dollars USD. Shooters have the highest median at around 200,000 dollars USD in sales, have the largest IQR among all the game genres, and highest fence among all the game genres. However, the highest outliers lie in the RPG and Sports genres.\n",
    "\n",
    "It's hard to generalize information among the top genres, as the distributions are very different from each other, save for the RPG and Sports genres. However, bottom genres have many commonalities - small IQRs, few outliers(if any), and similar medians."
   ]
  },
  {
   "cell_type": "markdown",
   "metadata": {},
   "source": [
    "# Step 4: Create a user profile for each region\n",
    "\n",
    "## By platform"
   ]
  },
  {
   "cell_type": "code",
   "execution_count": 195,
   "metadata": {},
   "outputs": [
    {
     "data": {
      "text/html": [
       "<div>\n",
       "<style scoped>\n",
       "    .dataframe tbody tr th:only-of-type {\n",
       "        vertical-align: middle;\n",
       "    }\n",
       "\n",
       "    .dataframe tbody tr th {\n",
       "        vertical-align: top;\n",
       "    }\n",
       "\n",
       "    .dataframe thead th {\n",
       "        text-align: right;\n",
       "    }\n",
       "</style>\n",
       "<table border=\"1\" class=\"dataframe\">\n",
       "  <thead>\n",
       "    <tr style=\"text-align: right;\">\n",
       "      <th></th>\n",
       "      <th>na_sales</th>\n",
       "      <th>eu_sales</th>\n",
       "      <th>jp_sales</th>\n",
       "      <th>total_sales</th>\n",
       "    </tr>\n",
       "    <tr>\n",
       "      <th>platform</th>\n",
       "      <th></th>\n",
       "      <th></th>\n",
       "      <th></th>\n",
       "      <th></th>\n",
       "    </tr>\n",
       "  </thead>\n",
       "  <tbody>\n",
       "    <tr>\n",
       "      <th>3DS</th>\n",
       "      <td>4.14</td>\n",
       "      <td>2.33</td>\n",
       "      <td>8.03</td>\n",
       "      <td>14.50</td>\n",
       "    </tr>\n",
       "    <tr>\n",
       "      <th>PC</th>\n",
       "      <td>1.36</td>\n",
       "      <td>3.53</td>\n",
       "      <td>0.00</td>\n",
       "      <td>4.89</td>\n",
       "    </tr>\n",
       "    <tr>\n",
       "      <th>PS4</th>\n",
       "      <td>21.49</td>\n",
       "      <td>31.78</td>\n",
       "      <td>5.74</td>\n",
       "      <td>59.01</td>\n",
       "    </tr>\n",
       "    <tr>\n",
       "      <th>WiiU</th>\n",
       "      <td>2.10</td>\n",
       "      <td>1.48</td>\n",
       "      <td>0.67</td>\n",
       "      <td>4.25</td>\n",
       "    </tr>\n",
       "    <tr>\n",
       "      <th>XOne</th>\n",
       "      <td>14.27</td>\n",
       "      <td>9.63</td>\n",
       "      <td>0.01</td>\n",
       "      <td>23.91</td>\n",
       "    </tr>\n",
       "  </tbody>\n",
       "</table>\n",
       "</div>"
      ],
      "text/plain": [
       "          na_sales  eu_sales  jp_sales  total_sales\n",
       "platform                                           \n",
       "3DS           4.14      2.33      8.03        14.50\n",
       "PC            1.36      3.53      0.00         4.89\n",
       "PS4          21.49     31.78      5.74        59.01\n",
       "WiiU          2.10      1.48      0.67         4.25\n",
       "XOne         14.27      9.63      0.01        23.91"
      ]
     },
     "execution_count": 195,
     "metadata": {},
     "output_type": "execute_result"
    }
   ],
   "source": [
    "# sum total sales for each platform, in descending order\n",
    "top_platforms = recent_data.groupby('platform').agg({'total_sales':'sum'}).sort_values('total_sales',ascending=False).reset_index()\n",
    "\n",
    "#retrieve top 5 platforms\n",
    "top_5_list = top_platforms['platform'][0:5].to_list()\n",
    "\n",
    "#filter all games on the top 5 platforms\n",
    "top_5_platforms = recent_data.query('platform in @top_5_list')\n",
    "\n",
    "top_5_platforms_grouped = top_5_platforms.groupby('platform').agg({'na_sales':'sum','eu_sales':'sum','jp_sales':'sum','total_sales':'sum'})\n",
    "\n",
    "top_5_platforms_grouped"
   ]
  },
  {
   "cell_type": "markdown",
   "metadata": {},
   "source": [
    "looking at our data, we can see that game sales for each platform differ for each region.\n",
    "* **JP** has the highest sales on **3DS games**\n",
    "* **EU** has the highest sales on **PC games and PS4 games**\n",
    "* **NA** has the highest sales on **WiiU games and Xbox One games**"
   ]
  },
  {
   "cell_type": "markdown",
   "metadata": {},
   "source": [
    "## By genre"
   ]
  },
  {
   "cell_type": "code",
   "execution_count": 197,
   "metadata": {},
   "outputs": [
    {
     "data": {
      "text/html": [
       "<div>\n",
       "<style scoped>\n",
       "    .dataframe tbody tr th:only-of-type {\n",
       "        vertical-align: middle;\n",
       "    }\n",
       "\n",
       "    .dataframe tbody tr th {\n",
       "        vertical-align: top;\n",
       "    }\n",
       "\n",
       "    .dataframe thead th {\n",
       "        text-align: right;\n",
       "    }\n",
       "</style>\n",
       "<table border=\"1\" class=\"dataframe\">\n",
       "  <thead>\n",
       "    <tr style=\"text-align: right;\">\n",
       "      <th></th>\n",
       "      <th>na_sales</th>\n",
       "      <th>eu_sales</th>\n",
       "      <th>jp_sales</th>\n",
       "      <th>total_sales</th>\n",
       "    </tr>\n",
       "    <tr>\n",
       "      <th>genre</th>\n",
       "      <th></th>\n",
       "      <th></th>\n",
       "      <th></th>\n",
       "      <th></th>\n",
       "    </tr>\n",
       "  </thead>\n",
       "  <tbody>\n",
       "    <tr>\n",
       "      <th>Action</th>\n",
       "      <td>9.29</td>\n",
       "      <td>10.68</td>\n",
       "      <td>7.07</td>\n",
       "      <td>27.04</td>\n",
       "    </tr>\n",
       "    <tr>\n",
       "      <th>Fighting</th>\n",
       "      <td>1.84</td>\n",
       "      <td>1.34</td>\n",
       "      <td>0.75</td>\n",
       "      <td>3.93</td>\n",
       "    </tr>\n",
       "    <tr>\n",
       "      <th>Role-Playing</th>\n",
       "      <td>5.89</td>\n",
       "      <td>4.28</td>\n",
       "      <td>6.61</td>\n",
       "      <td>16.78</td>\n",
       "    </tr>\n",
       "    <tr>\n",
       "      <th>Shooter</th>\n",
       "      <td>16.24</td>\n",
       "      <td>15.90</td>\n",
       "      <td>1.06</td>\n",
       "      <td>33.20</td>\n",
       "    </tr>\n",
       "    <tr>\n",
       "      <th>Sports</th>\n",
       "      <td>7.54</td>\n",
       "      <td>12.01</td>\n",
       "      <td>0.92</td>\n",
       "      <td>20.47</td>\n",
       "    </tr>\n",
       "  </tbody>\n",
       "</table>\n",
       "</div>"
      ],
      "text/plain": [
       "              na_sales  eu_sales  jp_sales  total_sales\n",
       "genre                                                  \n",
       "Action            9.29     10.68      7.07        27.04\n",
       "Fighting          1.84      1.34      0.75         3.93\n",
       "Role-Playing      5.89      4.28      6.61        16.78\n",
       "Shooter          16.24     15.90      1.06        33.20\n",
       "Sports            7.54     12.01      0.92        20.47"
      ]
     },
     "execution_count": 197,
     "metadata": {},
     "output_type": "execute_result"
    }
   ],
   "source": [
    "# sum total sales for each genre, in descending order\n",
    "top_genres = recent_data.groupby('genre').agg({'total_sales':'sum'}).sort_values('total_sales',ascending=False).reset_index()\n",
    "\n",
    "#retrieve top 5 genres\n",
    "top_5_genres_list = top_genres['genre'][0:5].to_list()\n",
    "\n",
    "#filter all games on the top 5 genres\n",
    "top_5_genres = recent_data.query('genre in @top_5_genres_list')\n",
    "\n",
    "top_5_genres_grouped = top_5_genres.groupby('genre').agg({'na_sales':'sum','eu_sales':'sum','jp_sales':'sum','total_sales':'sum'})\n",
    "\n",
    "top_5_genres_grouped "
   ]
  },
  {
   "cell_type": "markdown",
   "metadata": {},
   "source": [
    "looking at our data, we can see that game sales for each genre differ for each region.\n",
    "* **JP** has the highest sales on **RPGs**\n",
    "* **EU** has the highest sales on **Action games and Sports games**\n",
    "* **NA** has the highest sales on **Fighting games and Shooter games**\n",
    "\n",
    "## By ESRB rating"
   ]
  },
  {
   "cell_type": "code",
   "execution_count": 199,
   "metadata": {},
   "outputs": [
    {
     "data": {
      "text/html": [
       "<div>\n",
       "<style scoped>\n",
       "    .dataframe tbody tr th:only-of-type {\n",
       "        vertical-align: middle;\n",
       "    }\n",
       "\n",
       "    .dataframe tbody tr th {\n",
       "        vertical-align: top;\n",
       "    }\n",
       "\n",
       "    .dataframe thead th {\n",
       "        text-align: right;\n",
       "    }\n",
       "</style>\n",
       "<table border=\"1\" class=\"dataframe\">\n",
       "  <thead>\n",
       "    <tr style=\"text-align: right;\">\n",
       "      <th></th>\n",
       "      <th>na_sales</th>\n",
       "      <th>eu_sales</th>\n",
       "      <th>jp_sales</th>\n",
       "      <th>total_sales</th>\n",
       "    </tr>\n",
       "    <tr>\n",
       "      <th>rating</th>\n",
       "      <th></th>\n",
       "      <th></th>\n",
       "      <th></th>\n",
       "      <th></th>\n",
       "    </tr>\n",
       "  </thead>\n",
       "  <tbody>\n",
       "    <tr>\n",
       "      <th>E</th>\n",
       "      <td>16.50</td>\n",
       "      <td>21.08</td>\n",
       "      <td>15.39</td>\n",
       "      <td>52.97</td>\n",
       "    </tr>\n",
       "    <tr>\n",
       "      <th>E10+</th>\n",
       "      <td>3.81</td>\n",
       "      <td>3.81</td>\n",
       "      <td>0.45</td>\n",
       "      <td>8.07</td>\n",
       "    </tr>\n",
       "    <tr>\n",
       "      <th>M</th>\n",
       "      <td>15.67</td>\n",
       "      <td>16.54</td>\n",
       "      <td>1.20</td>\n",
       "      <td>33.41</td>\n",
       "    </tr>\n",
       "    <tr>\n",
       "      <th>T</th>\n",
       "      <td>8.95</td>\n",
       "      <td>9.79</td>\n",
       "      <td>2.27</td>\n",
       "      <td>21.01</td>\n",
       "    </tr>\n",
       "  </tbody>\n",
       "</table>\n",
       "</div>"
      ],
      "text/plain": [
       "        na_sales  eu_sales  jp_sales  total_sales\n",
       "rating                                           \n",
       "E          16.50     21.08     15.39        52.97\n",
       "E10+        3.81      3.81      0.45         8.07\n",
       "M          15.67     16.54      1.20        33.41\n",
       "T           8.95      9.79      2.27        21.01"
      ]
     },
     "execution_count": 199,
     "metadata": {},
     "output_type": "execute_result"
    }
   ],
   "source": [
    "esrb_data = recent_data.groupby('rating').agg({'na_sales':'sum','eu_sales':'sum','jp_sales':'sum','total_sales':'sum'})\n",
    "esrb_data"
   ]
  },
  {
   "cell_type": "markdown",
   "metadata": {},
   "source": [
    "looking at our data, we can see that game sales for each esrb rating differ for each region.\n",
    "* **E** rated games sell relatively evenly between different regions.\n",
    "* **E10+** rated games sell better in NA and EU compared to JP.\n",
    "* **M** rated games sell poorly in JP.\n",
    "* **T** rated games sell better in NA and EU.\n",
    "\n",
    "# Step 5: Test the following hypotheses"
   ]
  },
  {
   "cell_type": "markdown",
   "metadata": {},
   "source": [
    "## Hypothesis 1\n",
    "\n",
    "Our first null hypothesis will be that average user ratings of the Xbox One and PC platforms do not differ. The alternative states that average user ratings of the Xbox One and PC platforms differ."
   ]
  },
  {
   "cell_type": "code",
   "execution_count": 202,
   "metadata": {},
   "outputs": [
    {
     "name": "stdout",
     "output_type": "stream",
     "text": [
      "p-value: 0.0432994765139477\n",
      "We reject the null hypothesis\n"
     ]
    }
   ],
   "source": [
    "#set alpha\n",
    "alpha = 0.05\n",
    "\n",
    "#calculate result\n",
    "results = st.ttest_ind(ps4_data['user_score'], xone_data['user_score'])\n",
    "print('p-value:', results.pvalue)\n",
    "\n",
    "#check our hypothesis\n",
    "if(results.pvalue<alpha):\n",
    "    print('We reject the null hypothesis')\n",
    "else:\n",
    "    print('We can\\'t reject the null hypothesis')"
   ]
  },
  {
   "cell_type": "markdown",
   "metadata": {},
   "source": [
    "Based on our research, **there is statistically significant evidence that average user ratings of the Xbox One and PC platforms differ.**\n",
    "\n",
    "## Hypothesis 2\n",
    "\n",
    "Our second null hypothesis will be that the average user ratings for the Action and Sports genres do not differ. The alternative hypothesis states that the average user ratings for the Action and Sports genres are different."
   ]
  },
  {
   "cell_type": "code",
   "execution_count": 203,
   "metadata": {},
   "outputs": [
    {
     "name": "stdout",
     "output_type": "stream",
     "text": [
      "p-value: 5.602970965139628e-07\n",
      "We reject the null hypothesis\n"
     ]
    }
   ],
   "source": [
    "action = recent_data.query('genre == \"Action\"')['user_score']\n",
    "sports = recent_data.query('genre == \"Sports\"')['user_score']\n",
    "\n",
    "#set alpha\n",
    "alpha = 0.05\n",
    "\n",
    "#calculate result\n",
    "results = st.ttest_ind(action, sports)\n",
    "print('p-value:', results.pvalue)\n",
    "\n",
    "#check our hypothesis\n",
    "if(results.pvalue<alpha):\n",
    "    print('We reject the null hypothesis')\n",
    "else:\n",
    "    print('We can\\'t reject the null hypothesis')"
   ]
  },
  {
   "cell_type": "markdown",
   "metadata": {},
   "source": [
    "Based on our research, **there is statistically significant evidence that average user ratings for the Action and Sports genres are different.**\n"
   ]
  },
  {
   "cell_type": "markdown",
   "metadata": {},
   "source": [
    "# Step 6: Our Conclusion\n",
    "\n",
    "Based on the data that we collected and analyzed, we determined that there are many different factors that contribute to the success of a game, and that the popularity of a game developed will vary drastically based on many different variables including the genre, console, and and country the game is released in. Even ESRB rating has a potential impact upon the popularity of a game between different countries! \n",
    "\n",
    "Although there may be other factors that contribute to the success of a game, at the very least we can utilize our data to increase the potential success of our game. Additionally, as long as a game is released within one of the top genres, the probability of greater profits increases; according to the distribution in our boxplots, there are many outliers with a huge variance in profits in these top genres."
   ]
  }
 ],
 "metadata": {
  "kernelspec": {
   "display_name": "Python 3",
   "language": "python",
   "name": "python3"
  },
  "language_info": {
   "codemirror_mode": {
    "name": "ipython",
    "version": 3
   },
   "file_extension": ".py",
   "mimetype": "text/x-python",
   "name": "python",
   "nbconvert_exporter": "python",
   "pygments_lexer": "ipython3",
   "version": "3.7.6"
  }
 },
 "nbformat": 4,
 "nbformat_minor": 4
}
