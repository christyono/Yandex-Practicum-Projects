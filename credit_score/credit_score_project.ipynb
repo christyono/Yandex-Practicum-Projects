{
 "cells": [
  {
   "cell_type": "markdown",
   "metadata": {},
   "source": [
    "## Analyzing borrowers’ risk of defaulting\n",
    "\n",
    "This project is to prepare a report for a bank’s loan division. We will find out if a customer’s marital status and number of children has an impact on whether they will default on a loan. The bank already has some data on customers’ credit worthiness."
   ]
  },
  {
   "cell_type": "code",
   "execution_count": 1,
   "metadata": {},
   "outputs": [
    {
     "name": "stderr",
     "output_type": "stream",
     "text": [
      "[nltk_data] Downloading package punkt to\n",
      "[nltk_data]     C:\\Users\\Wesley\\AppData\\Roaming\\nltk_data...\n",
      "[nltk_data]   Package punkt is already up-to-date!\n",
      "[nltk_data] Downloading package wordnet to\n",
      "[nltk_data]     C:\\Users\\Wesley\\AppData\\Roaming\\nltk_data...\n",
      "[nltk_data]   Package wordnet is already up-to-date!\n"
     ]
    },
    {
     "data": {
      "text/plain": [
       "True"
      ]
     },
     "execution_count": 1,
     "metadata": {},
     "output_type": "execute_result"
    }
   ],
   "source": [
    "import nltk\n",
    "from nltk.stem import WordNetLemmatizer \n",
    "import pandas as pd\n",
    "nltk.download('punkt')\n",
    "nltk.download('wordnet')"
   ]
  },
  {
   "cell_type": "markdown",
   "metadata": {},
   "source": [
    "### Step 1. Open the data file and have a look at the general information. "
   ]
  },
  {
   "cell_type": "code",
   "execution_count": 2,
   "metadata": {},
   "outputs": [
    {
     "name": "stdout",
     "output_type": "stream",
     "text": [
      "<class 'pandas.core.frame.DataFrame'>\n",
      "RangeIndex: 21525 entries, 0 to 21524\n",
      "Data columns (total 12 columns):\n",
      " #   Column            Non-Null Count  Dtype  \n",
      "---  ------            --------------  -----  \n",
      " 0   children          21525 non-null  int64  \n",
      " 1   days_employed     19351 non-null  float64\n",
      " 2   dob_years         21525 non-null  int64  \n",
      " 3   education         21525 non-null  object \n",
      " 4   education_id      21525 non-null  int64  \n",
      " 5   family_status     21525 non-null  object \n",
      " 6   family_status_id  21525 non-null  int64  \n",
      " 7   gender            21525 non-null  object \n",
      " 8   income_type       21525 non-null  object \n",
      " 9   debt              21525 non-null  int64  \n",
      " 10  total_income      19351 non-null  float64\n",
      " 11  purpose           21525 non-null  object \n",
      "dtypes: float64(2), int64(5), object(5)\n",
      "memory usage: 2.0+ MB\n",
      "   children  days_employed  dob_years            education  education_id  \\\n",
      "0         1   -8437.673028         42    bachelor's degree             0   \n",
      "1         1   -4024.803754         36  secondary education             1   \n",
      "2         0   -5623.422610         33  Secondary Education             1   \n",
      "3         3   -4124.747207         32  secondary education             1   \n",
      "4         0  340266.072047         53  secondary education             1   \n",
      "5         0    -926.185831         27    bachelor's degree             0   \n",
      "6         0   -2879.202052         43    bachelor's degree             0   \n",
      "7         0    -152.779569         50  SECONDARY EDUCATION             1   \n",
      "8         2   -6929.865299         35    BACHELOR'S DEGREE             0   \n",
      "9         0   -2188.756445         41  secondary education             1   \n",
      "\n",
      "       family_status  family_status_id gender income_type  debt  total_income  \\\n",
      "0            married                 0      F    employee     0     40620.102   \n",
      "1            married                 0      F    employee     0     17932.802   \n",
      "2            married                 0      M    employee     0     23341.752   \n",
      "3            married                 0      M    employee     0     42820.568   \n",
      "4  civil partnership                 1      F     retiree     0     25378.572   \n",
      "5  civil partnership                 1      M    business     0     40922.170   \n",
      "6            married                 0      F    business     0     38484.156   \n",
      "7            married                 0      M    employee     0     21731.829   \n",
      "8  civil partnership                 1      F    employee     0     15337.093   \n",
      "9            married                 0      M    employee     0     23108.150   \n",
      "\n",
      "                               purpose  \n",
      "0                purchase of the house  \n",
      "1                         car purchase  \n",
      "2                purchase of the house  \n",
      "3              supplementary education  \n",
      "4                    to have a wedding  \n",
      "5                purchase of the house  \n",
      "6                 housing transactions  \n",
      "7                            education  \n",
      "8                     having a wedding  \n",
      "9  purchase of the house for my family  \n"
     ]
    }
   ],
   "source": [
    "credit_data = pd.read_csv(\"credit_scoring_eng.csv\")\n",
    "credit_data.info()\n",
    "#we can increment the value passed to the head method if there aren't any obvious issues.\n",
    "print(credit_data.head(10))"
   ]
  },
  {
   "cell_type": "markdown",
   "metadata": {},
   "source": [
    "### Conclusion"
   ]
  },
  {
   "cell_type": "markdown",
   "metadata": {},
   "source": [
    "From our initial observation of the data utilizing panda's info() method, we can see that two columns have less non-null values than the rest - 'days_employed', and 'total_income', with values 19351, compared to 21525. The ~2000 null values in each column will need to be filled.\n",
    "\n",
    "Let's now take a look at the first few rows to determine if there are any glaringly obvious issues. We'll look at each column to determine what else needs to be fixed, and if there are any other initial observations:\n",
    "\n",
    "**Children**: no obvious issues.\n",
    "**Days employed**: in addition to null values, there are negative values. These need to be converted to positive values. There are also unrealistic values for data such as 340266.072047 and 400281.136913. These also need to be changed. Type can also be converted from float to int, since we're just counting days.\n",
    "**DOB years**: no obvious issues.\n",
    "**Education**: strings aren't normalized. We need to normalize string values.\n",
    "**Education ID**: Education corresponds to an ID. We can use this ID to analyze data rather than using the education column, to prevent errors from potentially malformed strings. No obvious issues.\n",
    "**Family status/Family ID**: Family status is similar to education, a categorical variable corresponding to an ID. No obvious issues with these rows.\n",
    "**Gender**: Categorical binary variable. The only issue is people might have an issue with a gender binary. Maybe we can add more genders to the category. :) otherwise, no obvious issues.\n",
    "**Income Type**: no obvious issues.\n",
    "**Debt**: binary with 0 representing no defaults on loans, and 1 representing past default(s) on loan(s). No obivous issues.\n",
    "**Total Income**: null values\n",
    "**Purpose**: random string inputted by user. This needs to be lemmatized.\n",
    "\n",
    "\n",
    "Based on our initial take of our data, these following columns need to be fixed, or worked on before we can analyze the data:\n",
    "**Days employed\n",
    "Education\n",
    "Total income\n",
    "Purpose**\n",
    "\n",
    "Let's start with filling in missing values in **'days_employed'** and **'total_income'**. Since these are both quantitative variables, we'll fill the null values with the mean value of the column for now. \n",
    "\n",
    "The 'days_employed' column need negative values to be changed to positive, and unrealistic values to be changed to realistic values before we can accurately determine the mean.\n",
    "\n",
    "In the future, if we want to use these columns for data analysis such as finding a correlation between days of employment and total income, we may need to ask the developers to find the missing values to more accurately determine the data.\n"
   ]
  },
  {
   "cell_type": "markdown",
   "metadata": {},
   "source": [
    "### Step 2. Data preprocessing"
   ]
  },
  {
   "cell_type": "markdown",
   "metadata": {},
   "source": [
    "### Processing missing values"
   ]
  },
  {
   "cell_type": "code",
   "execution_count": 3,
   "metadata": {},
   "outputs": [
    {
     "name": "stdout",
     "output_type": "stream",
     "text": [
      "Income average:  26787.56835465871\n",
      "Days employed average:  2353.015931998879\n",
      "\n",
      "---------------------------------------------\n",
      "\n",
      "   children  days_employed  dob_years            education  education_id  \\\n",
      "0         1    8437.673028         42    bachelor's degree             0   \n",
      "1         1    4024.803754         36  secondary education             1   \n",
      "2         0    5623.422610         33  secondary education             1   \n",
      "3         3    4124.747207         32  secondary education             1   \n",
      "4         0    2353.015932         53  secondary education             1   \n",
      "5         0     926.185831         27    bachelor's degree             0   \n",
      "6         0    2879.202052         43    bachelor's degree             0   \n",
      "7         0     152.779569         50  secondary education             1   \n",
      "8         2    6929.865299         35    bachelor's degree             0   \n",
      "9         0    2188.756445         41  secondary education             1   \n",
      "\n",
      "       family_status  family_status_id gender income_type  debt  total_income  \\\n",
      "0            married                 0      F    employee     0     40620.102   \n",
      "1            married                 0      F    employee     0     17932.802   \n",
      "2            married                 0      M    employee     0     23341.752   \n",
      "3            married                 0      M    employee     0     42820.568   \n",
      "4  civil partnership                 1      F     retiree     0     25378.572   \n",
      "5  civil partnership                 1      M    business     0     40922.170   \n",
      "6            married                 0      F    business     0     38484.156   \n",
      "7            married                 0      M    employee     0     21731.829   \n",
      "8  civil partnership                 1      F    employee     0     15337.093   \n",
      "9            married                 0      M    employee     0     23108.150   \n",
      "\n",
      "                               purpose  \n",
      "0                purchase of the house  \n",
      "1                         car purchase  \n",
      "2                purchase of the house  \n",
      "3              supplementary education  \n",
      "4                    to have a wedding  \n",
      "5                purchase of the house  \n",
      "6                 housing transactions  \n",
      "7                            education  \n",
      "8                     having a wedding  \n",
      "9  purchase of the house for my family  \n"
     ]
    }
   ],
   "source": [
    "#get mean of income\n",
    "income_avg = credit_data['total_income'].mean()\n",
    "#firstly check the income_avg to ensure it's realistic, or it makes sense.\n",
    "print(\"Income average: \", income_avg)\n",
    "\n",
    "#then fill the null values with the mean\n",
    "credit_data['total_income'].fillna(value = income_avg, inplace = True)\n",
    "\n",
    "#convert negatives to positives\n",
    "credit_data['days_employed'] = credit_data['days_employed'].abs()\n",
    "\n",
    "#remove unrealistic data in days_employed, so our mean is realistic. Let's remove anything > 29,200(365 days * 80 years).\n",
    "credit_data.loc[credit_data['days_employed']>29200, 'days_employed'] = None\n",
    "\n",
    "#get mean of days employed\n",
    "employed_avg = credit_data['days_employed'].mean()\n",
    "\n",
    "#now check the mean to see if it's sensible as well\n",
    "print(\"Days employed average: \", employed_avg)\n",
    "#fill null values with mean - this includes the previously unrealistic data.\n",
    "credit_data['days_employed'].fillna(value = employed_avg, inplace=True)\n",
    "\n",
    "#lastly, normalize strings in the education column.\n",
    "credit_data['education'] = credit_data['education'].str.lower()\n",
    "\n",
    "#now check the data. Looks fine now.\n",
    "print('\\n---------------------------------------------\\n')\n",
    "print(credit_data.head(10))"
   ]
  },
  {
   "cell_type": "markdown",
   "metadata": {},
   "source": [
    "### Conclusion"
   ]
  },
  {
   "cell_type": "markdown",
   "metadata": {},
   "source": [
    "We've now fixed our days employed and total income columns. Null values, negative values, and unrealistic numbers were removed. But how did we get these values in the first place?\n",
    "\n",
    "**Null values**: User could have abstained from entering the information, if it wasn't mandated.\n",
    "**Negative values**: Developer may have saved the data as a negative value, and this made its way into the data without being reverted back to a positive number. Days employed should never be a negative value in the first place.\n",
    "**Unrealistic numbers**: Data was corrupted somewhere, or users falsely inputted these numbers."
   ]
  },
  {
   "cell_type": "markdown",
   "metadata": {},
   "source": [
    "### Data type replacement"
   ]
  },
  {
   "cell_type": "code",
   "execution_count": 4,
   "metadata": {},
   "outputs": [
    {
     "name": "stdout",
     "output_type": "stream",
     "text": [
      "<class 'pandas.core.frame.DataFrame'>\n",
      "RangeIndex: 21525 entries, 0 to 21524\n",
      "Data columns (total 12 columns):\n",
      " #   Column            Non-Null Count  Dtype  \n",
      "---  ------            --------------  -----  \n",
      " 0   children          21525 non-null  int64  \n",
      " 1   days_employed     21525 non-null  int32  \n",
      " 2   dob_years         21525 non-null  int64  \n",
      " 3   education         21525 non-null  object \n",
      " 4   education_id      21525 non-null  int64  \n",
      " 5   family_status     21525 non-null  object \n",
      " 6   family_status_id  21525 non-null  int64  \n",
      " 7   gender            21525 non-null  object \n",
      " 8   income_type       21525 non-null  object \n",
      " 9   debt              21525 non-null  int64  \n",
      " 10  total_income      21525 non-null  float64\n",
      " 11  purpose           21525 non-null  object \n",
      "dtypes: float64(1), int32(1), int64(5), object(5)\n",
      "memory usage: 1.9+ MB\n",
      "   children  days_employed  dob_years            education  education_id  \\\n",
      "0         1           8437         42    bachelor's degree             0   \n",
      "1         1           4024         36  secondary education             1   \n",
      "2         0           5623         33  secondary education             1   \n",
      "3         3           4124         32  secondary education             1   \n",
      "4         0           2353         53  secondary education             1   \n",
      "5         0            926         27    bachelor's degree             0   \n",
      "6         0           2879         43    bachelor's degree             0   \n",
      "7         0            152         50  secondary education             1   \n",
      "8         2           6929         35    bachelor's degree             0   \n",
      "9         0           2188         41  secondary education             1   \n",
      "\n",
      "       family_status  family_status_id gender income_type  debt  total_income  \\\n",
      "0            married                 0      F    employee     0     40620.102   \n",
      "1            married                 0      F    employee     0     17932.802   \n",
      "2            married                 0      M    employee     0     23341.752   \n",
      "3            married                 0      M    employee     0     42820.568   \n",
      "4  civil partnership                 1      F     retiree     0     25378.572   \n",
      "5  civil partnership                 1      M    business     0     40922.170   \n",
      "6            married                 0      F    business     0     38484.156   \n",
      "7            married                 0      M    employee     0     21731.829   \n",
      "8  civil partnership                 1      F    employee     0     15337.093   \n",
      "9            married                 0      M    employee     0     23108.150   \n",
      "\n",
      "                               purpose  \n",
      "0                purchase of the house  \n",
      "1                         car purchase  \n",
      "2                purchase of the house  \n",
      "3              supplementary education  \n",
      "4                    to have a wedding  \n",
      "5                purchase of the house  \n",
      "6                 housing transactions  \n",
      "7                            education  \n",
      "8                     having a wedding  \n",
      "9  purchase of the house for my family  \n"
     ]
    }
   ],
   "source": [
    "#convert days employed from float to int\n",
    "credit_data['days_employed'] = credit_data['days_employed'].astype('int')\n",
    "\n",
    "#check data\n",
    "credit_data.info()\n",
    "print(credit_data.head(10))"
   ]
  },
  {
   "cell_type": "markdown",
   "metadata": {},
   "source": [
    "### Conclusion"
   ]
  },
  {
   "cell_type": "markdown",
   "metadata": {},
   "source": [
    "Here we convert days employed from a float to an int. it isn't entirely necessary, but we can't really have a fraction of a day of employment so we might as well change it. Now all the data types seem to be correct. We use the astype() method from pandas because to_numeric() produces a float, and it's already a float in the first place."
   ]
  },
  {
   "cell_type": "markdown",
   "metadata": {},
   "source": [
    "### Processing duplicates"
   ]
  },
  {
   "cell_type": "code",
   "execution_count": 5,
   "metadata": {},
   "outputs": [
    {
     "name": "stdout",
     "output_type": "stream",
     "text": [
      "<class 'pandas.core.frame.DataFrame'>\n",
      "Int64Index: 21454 entries, 0 to 21524\n",
      "Data columns (total 12 columns):\n",
      " #   Column            Non-Null Count  Dtype  \n",
      "---  ------            --------------  -----  \n",
      " 0   children          21454 non-null  int64  \n",
      " 1   days_employed     21454 non-null  int32  \n",
      " 2   dob_years         21454 non-null  int64  \n",
      " 3   education         21454 non-null  object \n",
      " 4   education_id      21454 non-null  int64  \n",
      " 5   family_status     21454 non-null  object \n",
      " 6   family_status_id  21454 non-null  int64  \n",
      " 7   gender            21454 non-null  object \n",
      " 8   income_type       21454 non-null  object \n",
      " 9   debt              21454 non-null  int64  \n",
      " 10  total_income      21454 non-null  float64\n",
      " 11  purpose           21454 non-null  object \n",
      "dtypes: float64(1), int32(1), int64(5), object(5)\n",
      "memory usage: 2.0+ MB\n"
     ]
    }
   ],
   "source": [
    "credit_data = credit_data.drop_duplicates()\n",
    "\n",
    "credit_data.info()"
   ]
  },
  {
   "cell_type": "markdown",
   "metadata": {},
   "source": [
    "### Conclusion"
   ]
  },
  {
   "cell_type": "markdown",
   "metadata": {},
   "source": [
    "Seems like there were a few duplicate rows. Entries reduced from 21525 --> 21471. We use pandas' drop_duplicates() method, because why would we manually scan for duplicate rows?\n",
    "\n",
    "We then need to figure out why there were duplicates - users may have inputted their data several times, and/or data was replicated somewehere and added into the database. Either way there shouldn't be duplicates in the first place... *or at least, not this many.*"
   ]
  },
  {
   "cell_type": "markdown",
   "metadata": {},
   "source": [
    "### Categorizing Data"
   ]
  },
  {
   "cell_type": "code",
   "execution_count": 6,
   "metadata": {},
   "outputs": [
    {
     "name": "stdout",
     "output_type": "stream",
     "text": [
      "med     11691\n",
      "low      5990\n",
      "high     3773\n",
      "Name: income_level, dtype: int64\n"
     ]
    }
   ],
   "source": [
    "'''\n",
    "we first need to define a function for classifying income level. Since we have our median income, 26787.56835465867,\n",
    "we can distribute income levels between 'low', 'middle', and 'high' income. Let's do something like\n",
    "\n",
    "low < 18000 < median < 36000 < high\n",
    "\n",
    "since the median is ~ 27000.\n",
    "\n",
    "we don't need a try/except block since 'income' is an integer that falls underneath one of these three conditional statements.\n",
    "'''\n",
    "def income_level(income):\n",
    "    if income < 18000:\n",
    "        return 'low'\n",
    "    elif income >= 18000 and income <=36000:\n",
    "        return 'med'\n",
    "    else:\n",
    "        return 'high'\n",
    "    \n",
    "#and now we'll apply this function to a new column.\n",
    "credit_data['income_level'] = credit_data['total_income'].apply(income_level)\n",
    "\n",
    "#and let's see our result.\n",
    "print(credit_data['income_level'].value_counts())"
   ]
  },
  {
   "cell_type": "code",
   "execution_count": 7,
   "metadata": {},
   "outputs": [
    {
     "name": "stdout",
     "output_type": "stream",
     "text": [
      "housing      10811\n",
      "car           4306\n",
      "education     4013\n",
      "wedding       2324\n",
      "Name: actual_purpose, dtype: int64\n"
     ]
    }
   ],
   "source": [
    "'''\n",
    "now we need to categorize purpose.\n",
    "\n",
    "let's list potential purposes:\n",
    "education\n",
    "wedding\n",
    "house\n",
    "property\n",
    "real estate\n",
    "university\n",
    "\n",
    "now we'll categorize them:\n",
    "\n",
    "education, university ==> education\n",
    "house, property, real estate ==> house\n",
    "wedding ==> wedding\n",
    "\n",
    "we'll create a function that lemmatizes words, and we'll apply this function to a new column.\n",
    "\n",
    "any 'purpose' that doesn't fall under any of these categories will be caught in the except block.\n",
    "'''\n",
    "\n",
    "def lemmatized(purpose):\n",
    "    try:\n",
    "        lemmatizer = WordNetLemmatizer()\n",
    "        words = nltk.word_tokenize(purpose)\n",
    "        lemmas_v = [lemmatizer.lemmatize(w, pos = 'v') for w in words]\n",
    "        house = ['house','property','estate']\n",
    "        education = ['university','education', 'educate']\n",
    "        car = ['car','cars']\n",
    "        wedding = ['wed','wedding']\n",
    "        for word in lemmas_v:\n",
    "            if word in house:\n",
    "                return 'housing'\n",
    "            elif word in education:\n",
    "                return 'education'\n",
    "            elif word in car:\n",
    "                return 'car'\n",
    "            elif word in wedding:\n",
    "                return 'wedding'\n",
    "\n",
    "        lemmas_n = [lemmatizer.lemmatize(w, pos = 'v') for w in words]\n",
    "\n",
    "        for word in lemmas_n:\n",
    "            if word in house:\n",
    "                return 'housing'\n",
    "            elif word in education:\n",
    "                return 'education'\n",
    "            elif word in car:\n",
    "                return 'car'\n",
    "            elif word in wedding:\n",
    "                return 'wedding'\n",
    "            \n",
    "        raise Exception()\n",
    "    except:\n",
    "        print(\"purpose: \", purpose,\"does not fall into any classified category\")\n",
    "\n",
    "#apply it\n",
    "credit_data['actual_purpose'] = credit_data['purpose'].apply(lemmatized)\n",
    "\n",
    "#our result\n",
    "print(credit_data['actual_purpose'].value_counts())\n",
    "\n"
   ]
  },
  {
   "cell_type": "markdown",
   "metadata": {},
   "source": [
    "### Conclusion"
   ]
  },
  {
   "cell_type": "markdown",
   "metadata": {},
   "source": [
    "The questions we need to answer are:\n",
    "\n",
    "1. Is there a relation between having kids and repaying a loan on time?\n",
    "2. Is there a relation between marital status and repaying a loan on time?\n",
    "3. Is there a relation between income level and repaying a loan on time?\n",
    "4. How do different loan purposes affect on-time repayment of the loan?\n",
    "\n",
    "So we need categories for:\n",
    "**loans\n",
    "having kids\n",
    "marital status\n",
    "income level\n",
    "purpose**\n",
    "\n",
    "The only non-categorical data columns are income level and purpose, so we need to categorize both to answer our relational question. Without categorization is hard to draw meaningful conclusions from our data."
   ]
  },
  {
   "cell_type": "markdown",
   "metadata": {},
   "source": [
    "### Step 3. Answer these questions"
   ]
  },
  {
   "cell_type": "markdown",
   "metadata": {},
   "source": [
    "- Is there a relation between having kids and repaying a loan on time?"
   ]
  },
  {
   "cell_type": "code",
   "execution_count": 8,
   "metadata": {},
   "outputs": [
    {
     "data": {
      "text/html": [
       "<div>\n",
       "<style scoped>\n",
       "    .dataframe tbody tr th:only-of-type {\n",
       "        vertical-align: middle;\n",
       "    }\n",
       "\n",
       "    .dataframe tbody tr th {\n",
       "        vertical-align: top;\n",
       "    }\n",
       "\n",
       "    .dataframe thead th {\n",
       "        text-align: right;\n",
       "    }\n",
       "</style>\n",
       "<table border=\"1\" class=\"dataframe\">\n",
       "  <thead>\n",
       "    <tr style=\"text-align: right;\">\n",
       "      <th></th>\n",
       "      <th>no debt</th>\n",
       "      <th>debt</th>\n",
       "      <th>percentage</th>\n",
       "    </tr>\n",
       "    <tr>\n",
       "      <th>children</th>\n",
       "      <th></th>\n",
       "      <th></th>\n",
       "      <th></th>\n",
       "    </tr>\n",
       "  </thead>\n",
       "  <tbody>\n",
       "    <tr>\n",
       "      <th>-1</th>\n",
       "      <td>46.0</td>\n",
       "      <td>1.0</td>\n",
       "      <td>97.87%</td>\n",
       "    </tr>\n",
       "    <tr>\n",
       "      <th>0</th>\n",
       "      <td>13028.0</td>\n",
       "      <td>1063.0</td>\n",
       "      <td>92.46%</td>\n",
       "    </tr>\n",
       "    <tr>\n",
       "      <th>1</th>\n",
       "      <td>4364.0</td>\n",
       "      <td>444.0</td>\n",
       "      <td>90.77%</td>\n",
       "    </tr>\n",
       "    <tr>\n",
       "      <th>2</th>\n",
       "      <td>1858.0</td>\n",
       "      <td>194.0</td>\n",
       "      <td>90.55%</td>\n",
       "    </tr>\n",
       "    <tr>\n",
       "      <th>3</th>\n",
       "      <td>303.0</td>\n",
       "      <td>27.0</td>\n",
       "      <td>91.82%</td>\n",
       "    </tr>\n",
       "    <tr>\n",
       "      <th>4</th>\n",
       "      <td>37.0</td>\n",
       "      <td>4.0</td>\n",
       "      <td>90.24%</td>\n",
       "    </tr>\n",
       "    <tr>\n",
       "      <th>5</th>\n",
       "      <td>9.0</td>\n",
       "      <td>NaN</td>\n",
       "      <td>nan%</td>\n",
       "    </tr>\n",
       "    <tr>\n",
       "      <th>20</th>\n",
       "      <td>68.0</td>\n",
       "      <td>8.0</td>\n",
       "      <td>89.47%</td>\n",
       "    </tr>\n",
       "  </tbody>\n",
       "</table>\n",
       "</div>"
      ],
      "text/plain": [
       "          no debt    debt percentage\n",
       "children                            \n",
       "-1           46.0     1.0     97.87%\n",
       " 0        13028.0  1063.0     92.46%\n",
       " 1         4364.0   444.0     90.77%\n",
       " 2         1858.0   194.0     90.55%\n",
       " 3          303.0    27.0     91.82%\n",
       " 4           37.0     4.0     90.24%\n",
       " 5            9.0     NaN       nan%\n",
       " 20          68.0     8.0     89.47%"
      ]
     },
     "execution_count": 8,
     "metadata": {},
     "output_type": "execute_result"
    }
   ],
   "source": [
    "data = credit_data.groupby(['children','debt']).size().reset_index(name='counts')\n",
    "\n",
    "table = data.pivot(index='children', columns='debt', values='counts')\n",
    "\n",
    "table.columns = ['no debt', 'debt']\n",
    "table['percentage'] = table['no debt']/(table['no debt']+table['debt'])\n",
    "table['percentage'] = table['percentage'].astype(float).map(\"{:.2%}\".format)\n",
    "table"
   ]
  },
  {
   "cell_type": "markdown",
   "metadata": {},
   "source": [
    "### Conclusion"
   ]
  },
  {
   "cell_type": "markdown",
   "metadata": {},
   "source": [
    "The probability of debt repayment is as follows, based on number of children:\n",
    "\n",
    "**0 children: 92.46%\n",
    "1 child: 90.77%\n",
    "2 children: 90.55%\n",
    "3 children: 91.82%\n",
    "4 children: 90.24%\n",
    "5 children: 100%**\n",
    "\n",
    "Based on our collected data, we can assume that there isn't a significant statistical correlation between having children and repaying a loan on time.\n",
    "\n",
    "We also have some interesting data where the we have several rows with -1 child, and 20 children! Some questions to ask:\n",
    "What does -1 mean? No children? 1 child? an undefined number of children?\n",
    "**how are there 76 families with 20 children????**"
   ]
  },
  {
   "cell_type": "markdown",
   "metadata": {},
   "source": [
    "- Is there a relation between marital status and repaying a loan on time?"
   ]
  },
  {
   "cell_type": "code",
   "execution_count": 9,
   "metadata": {},
   "outputs": [
    {
     "data": {
      "text/html": [
       "<div>\n",
       "<style scoped>\n",
       "    .dataframe tbody tr th:only-of-type {\n",
       "        vertical-align: middle;\n",
       "    }\n",
       "\n",
       "    .dataframe tbody tr th {\n",
       "        vertical-align: top;\n",
       "    }\n",
       "\n",
       "    .dataframe thead th {\n",
       "        text-align: right;\n",
       "    }\n",
       "</style>\n",
       "<table border=\"1\" class=\"dataframe\">\n",
       "  <thead>\n",
       "    <tr style=\"text-align: right;\">\n",
       "      <th></th>\n",
       "      <th>no debt</th>\n",
       "      <th>debt</th>\n",
       "      <th>percentage</th>\n",
       "    </tr>\n",
       "    <tr>\n",
       "      <th>family_status</th>\n",
       "      <th></th>\n",
       "      <th></th>\n",
       "      <th></th>\n",
       "    </tr>\n",
       "  </thead>\n",
       "  <tbody>\n",
       "    <tr>\n",
       "      <th>civil partnership</th>\n",
       "      <td>3763</td>\n",
       "      <td>388</td>\n",
       "      <td>90.65%</td>\n",
       "    </tr>\n",
       "    <tr>\n",
       "      <th>divorced</th>\n",
       "      <td>1110</td>\n",
       "      <td>85</td>\n",
       "      <td>92.89%</td>\n",
       "    </tr>\n",
       "    <tr>\n",
       "      <th>married</th>\n",
       "      <td>11408</td>\n",
       "      <td>931</td>\n",
       "      <td>92.45%</td>\n",
       "    </tr>\n",
       "    <tr>\n",
       "      <th>unmarried</th>\n",
       "      <td>2536</td>\n",
       "      <td>274</td>\n",
       "      <td>90.25%</td>\n",
       "    </tr>\n",
       "    <tr>\n",
       "      <th>widow / widower</th>\n",
       "      <td>896</td>\n",
       "      <td>63</td>\n",
       "      <td>93.43%</td>\n",
       "    </tr>\n",
       "  </tbody>\n",
       "</table>\n",
       "</div>"
      ],
      "text/plain": [
       "                   no debt  debt percentage\n",
       "family_status                              \n",
       "civil partnership     3763   388     90.65%\n",
       "divorced              1110    85     92.89%\n",
       "married              11408   931     92.45%\n",
       "unmarried             2536   274     90.25%\n",
       "widow / widower        896    63     93.43%"
      ]
     },
     "execution_count": 9,
     "metadata": {},
     "output_type": "execute_result"
    }
   ],
   "source": [
    "data = credit_data.groupby(['family_status','debt']).size().reset_index(name='counts')\n",
    "\n",
    "table = data.pivot(index='family_status', columns='debt', values='counts')\n",
    "\n",
    "table.columns = ['no debt', 'debt']\n",
    "table['percentage'] = table['no debt']/(table['no debt']+table['debt'])\n",
    "table['percentage'] = table['percentage'].astype(float).map(\"{:.2%}\".format)\n",
    "table"
   ]
  },
  {
   "cell_type": "markdown",
   "metadata": {},
   "source": [
    "### Conclusion"
   ]
  },
  {
   "cell_type": "markdown",
   "metadata": {},
   "source": [
    "The probability of debt repayment is as follows, based on number of family status:\n",
    "\n",
    "**civil partnership: 90.65%\n",
    "divorced: 92.89%\n",
    "married: 92.44%\n",
    "unmarried: 90.25%\n",
    "widow/widower: 93.43%**\n",
    "\n",
    "Based on our data, there isn't a significant statistical correlation between debt repayment and family status."
   ]
  },
  {
   "cell_type": "markdown",
   "metadata": {},
   "source": [
    "- Is there a relation between income level and repaying a loan on time?"
   ]
  },
  {
   "cell_type": "code",
   "execution_count": 10,
   "metadata": {},
   "outputs": [
    {
     "data": {
      "text/html": [
       "<div>\n",
       "<style scoped>\n",
       "    .dataframe tbody tr th:only-of-type {\n",
       "        vertical-align: middle;\n",
       "    }\n",
       "\n",
       "    .dataframe tbody tr th {\n",
       "        vertical-align: top;\n",
       "    }\n",
       "\n",
       "    .dataframe thead th {\n",
       "        text-align: right;\n",
       "    }\n",
       "</style>\n",
       "<table border=\"1\" class=\"dataframe\">\n",
       "  <thead>\n",
       "    <tr style=\"text-align: right;\">\n",
       "      <th></th>\n",
       "      <th>no debt</th>\n",
       "      <th>debt</th>\n",
       "      <th>percentage</th>\n",
       "    </tr>\n",
       "    <tr>\n",
       "      <th>income_level</th>\n",
       "      <th></th>\n",
       "      <th></th>\n",
       "      <th></th>\n",
       "    </tr>\n",
       "  </thead>\n",
       "  <tbody>\n",
       "    <tr>\n",
       "      <th>high</th>\n",
       "      <td>3506</td>\n",
       "      <td>267</td>\n",
       "      <td>92.92%</td>\n",
       "    </tr>\n",
       "    <tr>\n",
       "      <th>low</th>\n",
       "      <td>5512</td>\n",
       "      <td>478</td>\n",
       "      <td>92.02%</td>\n",
       "    </tr>\n",
       "    <tr>\n",
       "      <th>med</th>\n",
       "      <td>10695</td>\n",
       "      <td>996</td>\n",
       "      <td>91.48%</td>\n",
       "    </tr>\n",
       "  </tbody>\n",
       "</table>\n",
       "</div>"
      ],
      "text/plain": [
       "              no debt  debt percentage\n",
       "income_level                          \n",
       "high             3506   267     92.92%\n",
       "low              5512   478     92.02%\n",
       "med             10695   996     91.48%"
      ]
     },
     "execution_count": 10,
     "metadata": {},
     "output_type": "execute_result"
    }
   ],
   "source": [
    "data = credit_data.groupby(['income_level','debt']).size().reset_index(name='counts')\n",
    "\n",
    "table = data.pivot(index='income_level', columns='debt', values='counts')\n",
    "\n",
    "table.columns = ['no debt', 'debt']\n",
    "table['percentage'] = table['no debt']/(table['no debt']+table['debt'])\n",
    "table['percentage'] = table['percentage'].astype(float).map(\"{:.2%}\".format)\n",
    "table"
   ]
  },
  {
   "cell_type": "markdown",
   "metadata": {},
   "source": [
    "### Conclusion"
   ]
  },
  {
   "cell_type": "markdown",
   "metadata": {},
   "source": [
    "The probability of debt repayment is as follows, based on income level:\n",
    "\n",
    "**high: 92.92%\n",
    "low: 92.02%\n",
    "med: 91.48**\n",
    "\n",
    "Based on our data, there isn't a significant statistical correlation between debt repayment and income level."
   ]
  },
  {
   "cell_type": "markdown",
   "metadata": {},
   "source": [
    "- How do different loan purposes affect on-time repayment of the loan?"
   ]
  },
  {
   "cell_type": "code",
   "execution_count": 11,
   "metadata": {},
   "outputs": [
    {
     "data": {
      "text/html": [
       "<div>\n",
       "<style scoped>\n",
       "    .dataframe tbody tr th:only-of-type {\n",
       "        vertical-align: middle;\n",
       "    }\n",
       "\n",
       "    .dataframe tbody tr th {\n",
       "        vertical-align: top;\n",
       "    }\n",
       "\n",
       "    .dataframe thead th {\n",
       "        text-align: right;\n",
       "    }\n",
       "</style>\n",
       "<table border=\"1\" class=\"dataframe\">\n",
       "  <thead>\n",
       "    <tr style=\"text-align: right;\">\n",
       "      <th></th>\n",
       "      <th>no debt</th>\n",
       "      <th>debt</th>\n",
       "      <th>percentage</th>\n",
       "    </tr>\n",
       "    <tr>\n",
       "      <th>actual_purpose</th>\n",
       "      <th></th>\n",
       "      <th></th>\n",
       "      <th></th>\n",
       "    </tr>\n",
       "  </thead>\n",
       "  <tbody>\n",
       "    <tr>\n",
       "      <th>car</th>\n",
       "      <td>3903</td>\n",
       "      <td>403</td>\n",
       "      <td>90.64%</td>\n",
       "    </tr>\n",
       "    <tr>\n",
       "      <th>education</th>\n",
       "      <td>3643</td>\n",
       "      <td>370</td>\n",
       "      <td>90.78%</td>\n",
       "    </tr>\n",
       "    <tr>\n",
       "      <th>housing</th>\n",
       "      <td>10029</td>\n",
       "      <td>782</td>\n",
       "      <td>92.77%</td>\n",
       "    </tr>\n",
       "    <tr>\n",
       "      <th>wedding</th>\n",
       "      <td>2138</td>\n",
       "      <td>186</td>\n",
       "      <td>92.00%</td>\n",
       "    </tr>\n",
       "  </tbody>\n",
       "</table>\n",
       "</div>"
      ],
      "text/plain": [
       "                no debt  debt percentage\n",
       "actual_purpose                          \n",
       "car                3903   403     90.64%\n",
       "education          3643   370     90.78%\n",
       "housing           10029   782     92.77%\n",
       "wedding            2138   186     92.00%"
      ]
     },
     "execution_count": 11,
     "metadata": {},
     "output_type": "execute_result"
    }
   ],
   "source": [
    "data = credit_data.groupby(['actual_purpose','debt']).size().reset_index(name='counts')\n",
    "\n",
    "table = data.pivot(index='actual_purpose', columns='debt', values='counts')\n",
    "\n",
    "table.columns = ['no debt', 'debt']\n",
    "table['percentage'] = table['no debt']/(table['no debt']+table['debt'])\n",
    "table['percentage'] = table['percentage'].astype(float).map(\"{:.2%}\".format)\n",
    "table"
   ]
  },
  {
   "cell_type": "markdown",
   "metadata": {},
   "source": [
    "### Conclusion"
   ]
  },
  {
   "cell_type": "markdown",
   "metadata": {},
   "source": [
    "The probability of debt repayment is as follows, based on purpose:\n",
    "\n",
    "**car: 90.64%\n",
    "education: 90.78%\n",
    "housing: 92.77%\n",
    "wedding: 92.00%**\n",
    "\n",
    "Based on our data, there isn't a significant statistical correlation between debt repayment and income level."
   ]
  },
  {
   "cell_type": "markdown",
   "metadata": {},
   "source": [
    "### Step 4. General conclusion"
   ]
  },
  {
   "cell_type": "markdown",
   "metadata": {},
   "source": [
    "Based on the analysis of the data, we can conclude that there aren't significant differences between the categories that we analyzed and debt repayment. Typical percentage of debt repayment across all boards range from ~90-92%. "
   ]
  }
 ],
 "metadata": {
  "kernelspec": {
   "display_name": "Python 3",
   "language": "python",
   "name": "python3"
  },
  "language_info": {
   "codemirror_mode": {
    "name": "ipython",
    "version": 3
   },
   "file_extension": ".py",
   "mimetype": "text/x-python",
   "name": "python",
   "nbconvert_exporter": "python",
   "pygments_lexer": "ipython3",
   "version": "3.7.6"
  }
 },
 "nbformat": 4,
 "nbformat_minor": 4
}
